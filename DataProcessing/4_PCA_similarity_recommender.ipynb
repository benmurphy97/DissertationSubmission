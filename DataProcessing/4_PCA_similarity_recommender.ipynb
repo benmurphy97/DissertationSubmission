{
 "cells": [
  {
   "cell_type": "markdown",
   "metadata": {},
   "source": [
    "# Use PCA to reduce the dimensionality of our dataset to enable better similarity ratings"
   ]
  },
  {
   "cell_type": "code",
   "execution_count": 1,
   "metadata": {},
   "outputs": [],
   "source": [
    "# import necessary libraries\n",
    "import pandas as pd\n",
    "import matplotlib.pyplot as plt\n",
    "import numpy as np\n",
    "\n",
    "from sklearn.metrics.pairwise import cosine_similarity"
   ]
  },
  {
   "cell_type": "code",
   "execution_count": 2,
   "metadata": {},
   "outputs": [
    {
     "data": {
      "text/plain": [
       "((1343, 5801), (1343, 282), (1343, 24), (1343, 3101))"
      ]
     },
     "execution_count": 2,
     "metadata": {},
     "output_type": "execute_result"
    }
   ],
   "source": [
    "tfidf_df = pd.read_pickle('Pickles/tfidf_df.pkl')\n",
    "director_df = pd.read_pickle('Pickles/director_df.pkl')\n",
    "genre_df = pd.read_pickle('Pickles/genre_df.pkl')\n",
    "actor_df = pd.read_pickle('Pickles/actor_df.pkl')\n",
    "\n",
    "\n",
    "tfidf_df.shape, director_df.shape, genre_df.shape, actor_df.shape"
   ]
  },
  {
   "cell_type": "code",
   "execution_count": 3,
   "metadata": {},
   "outputs": [
    {
     "data": {
      "text/plain": [
       "1343"
      ]
     },
     "execution_count": 3,
     "metadata": {},
     "output_type": "execute_result"
    }
   ],
   "source": [
    "len(tfidf_df.movieId.unique())"
   ]
  },
  {
   "cell_type": "code",
   "execution_count": 5,
   "metadata": {},
   "outputs": [
    {
     "data": {
      "text/plain": [
       "(1343, 9205)"
      ]
     },
     "execution_count": 5,
     "metadata": {},
     "output_type": "execute_result"
    }
   ],
   "source": [
    "df = pd.merge(tfidf_df, genre_df, on='movieId', how='outer')\n",
    "df = pd.merge(df, director_df, on='movieId', how='outer')\n",
    "df = pd.merge(df, actor_df, on='movieId', how='outer')\n",
    "\n",
    "\n",
    "df.shape"
   ]
  },
  {
   "cell_type": "code",
   "execution_count": 85,
   "metadata": {},
   "outputs": [
    {
     "data": {
      "text/plain": [
       "[<matplotlib.lines.Line2D at 0x1a1e21d6a0>]"
      ]
     },
     "execution_count": 85,
     "metadata": {},
     "output_type": "execute_result"
    },
    {
     "data": {
      "image/png": "[encoded data removed]",
      "text/plain": [
       "<Figure size 576x432 with 1 Axes>"
      ]
     },
     "metadata": {
      "needs_background": "light"
     },
     "output_type": "display_data"
    }
   ],
   "source": [
    "from sklearn.decomposition import PCA\n",
    "\n",
    "movieIds = df['movieId']\n",
    "temp = df.loc[:, df.columns != 'movieId']\n",
    "\n",
    "p=100\n",
    "pca = PCA(n_components=p).fit(temp.T) # fit PCA on all our features\n",
    "\n",
    "pca_df = pd.DataFrame(pca.components_.T) # create df from components\n",
    "\n",
    "\n",
    "plt.figure(figsize=(8,6))\n",
    "plt.title(\"Explained variance of components\")\n",
    "plt.ylabel(\"Explained variance\")\n",
    "plt.xlabel(\"Component\")\n",
    "plt.plot([5], [.006], marker='o', markersize=15, color=\"red\")\n",
    "plt.plot(np.arange(p), pca.explained_variance_)"
   ]
  },
  {
   "cell_type": "code",
   "execution_count": 86,
   "metadata": {},
   "outputs": [
    {
     "data": {
      "text/plain": [
       "array([0.03206516, 0.02147339, 0.01441228, 0.01159333, 0.00964158,\n",
       "       0.00829724, 0.00677789, 0.00598362, 0.00581649, 0.00572331,\n",
       "       0.00549506, 0.00523039, 0.00519199, 0.00510771, 0.0048983 ,\n",
       "       0.00484879, 0.00481116, 0.00471147, 0.00468512, 0.00464401,\n",
       "       0.00450136, 0.00446894, 0.00444723, 0.00435339, 0.00427625,\n",
       "       0.00422168, 0.00415078, 0.00410129, 0.00408919, 0.00403815,\n",
       "       0.00397261, 0.00392904, 0.00387797, 0.00386331, 0.00379741,\n",
       "       0.00373318, 0.00371599, 0.00367749, 0.00363195, 0.00359178,\n",
       "       0.00357363, 0.00356804, 0.0035511 , 0.0035128 , 0.00348298,\n",
       "       0.00346119, 0.00343332, 0.00340428, 0.00339439, 0.00336708,\n",
       "       0.00336314, 0.0033169 , 0.0033088 , 0.00328122, 0.00327249,\n",
       "       0.00324443, 0.00322217, 0.00319045, 0.00317286, 0.00316584,\n",
       "       0.00314803, 0.00312884, 0.00311816, 0.00309568, 0.0030666 ,\n",
       "       0.00305947, 0.00303696, 0.00302783, 0.00302135, 0.00300754,\n",
       "       0.00299856, 0.00297614, 0.0029513 , 0.00294514, 0.00293022,\n",
       "       0.00290989, 0.00288786, 0.00287118, 0.00285084, 0.00283929,\n",
       "       0.00281714, 0.00281121, 0.00279718, 0.00277852, 0.0027519 ,\n",
       "       0.00274797, 0.00271739, 0.00270859, 0.00269854, 0.00267729,\n",
       "       0.00267501, 0.00265537, 0.00264365, 0.00262756, 0.00261711,\n",
       "       0.00260638, 0.00258397, 0.00256874, 0.0025511 , 0.00253574])"
      ]
     },
     "execution_count": 86,
     "metadata": {},
     "output_type": "execute_result"
    }
   ],
   "source": [
    "pca.explained_variance_"
   ]
  },
  {
   "cell_type": "code",
   "execution_count": 96,
   "metadata": {},
   "outputs": [
    {
     "data": {
      "text/plain": [
       "(1343, 100)"
      ]
     },
     "execution_count": 96,
     "metadata": {},
     "output_type": "execute_result"
    }
   ],
   "source": [
    "# write this dataframe to a pickle\n",
    "temp = pca_df.copy()\n",
    "temp.columns = temp.columns.astype(str)\n",
    "temp['movieId'] = movieIds\n",
    "temp.to_pickle('Pickles/pca_100_df.pkl')\n",
    "\n",
    "pca_df.shape"
   ]
  },
  {
   "cell_type": "code",
   "execution_count": 88,
   "metadata": {},
   "outputs": [
    {
     "data": {
      "text/plain": [
       "(1343, 1343)"
      ]
     },
     "execution_count": 88,
     "metadata": {},
     "output_type": "execute_result"
    }
   ],
   "source": [
    "cos_sim_matrix = cosine_similarity(pca_df, pca_df) # create similarity matrix from df\n",
    "cos_sim_matrix.shape"
   ]
  },
  {
   "cell_type": "code",
   "execution_count": 94,
   "metadata": {},
   "outputs": [],
   "source": [
    "cos_sim_df = pd.DataFrame(cos_sim_matrix, columns = movieIds) # create new df from our similarity matrix\n",
    "cos_sim_df['movieId'] = movieIds\n",
    "cos_sim_df.to_pickle('Pickles/cos_sim_df.pkl')"
   ]
  },
  {
   "cell_type": "markdown",
   "metadata": {},
   "source": [
    "# Show most similar movies to any given movie using components"
   ]
  },
  {
   "cell_type": "code",
   "execution_count": 90,
   "metadata": {},
   "outputs": [],
   "source": [
    "def display_top_movies(movie_title, n_movies, similarity_matrix_df):\n",
    "    \n",
    "    ordered_index_series = similarity_matrix_df[movie_title].sort_values(ascending=False) # access the movie's column and sort the values in it\n",
    "    \n",
    "    top_series = ordered_index_series[1:n_movies+1] # remove the first value, it is the similarity to itself (1)\n",
    "    \n",
    "    print(\"Selected Movie Id: \",movie_title, '\\n--------------------')\n",
    "    print(\"MovieId   Similarity\")\n",
    "    for i,v in top_series.items(): # iterate through items in series, print movie title and similarity to our chosen movie\n",
    "        print((similarity_matrix_df.iloc[i]['movieId']),' :', round(v, 4))\n",
    "#         .ljust(40,' '), ' :', round(v, 4)"
   ]
  },
  {
   "cell_type": "code",
   "execution_count": 91,
   "metadata": {},
   "outputs": [
    {
     "name": "stdout",
     "output_type": "stream",
     "text": [
      "Selected Movie Id:  1 \n",
      "--------------------\n",
      "MovieId   Similarity\n",
      "3114.0  : 0.9793\n",
      "78499.0  : 0.9594\n",
      "95167.0  : 0.3866\n",
      "60069.0  : 0.3625\n",
      "50872.0  : 0.3567\n",
      "4022.0  : 0.3447\n",
      "8961.0  : 0.342\n",
      "45517.0  : 0.3408\n",
      "2369.0  : 0.3358\n",
      "2145.0  : 0.3228\n",
      "356.0  : 0.3226\n",
      "68954.0  : 0.2866\n",
      "317.0  : 0.2794\n",
      "2797.0  : 0.2758\n",
      "3255.0  : 0.2703\n"
     ]
    }
   ],
   "source": [
    "display_top_movies(movie_title = 1,\n",
    "                   n_movies = 15,\n",
    "                   similarity_matrix_df = cos_sim_df)"
   ]
  },
  {
   "cell_type": "code",
   "execution_count": 92,
   "metadata": {},
   "outputs": [
    {
     "name": "stdout",
     "output_type": "stream",
     "text": [
      "Selected Movie Id:  8368 \n",
      "--------------------\n",
      "MovieId   Similarity\n",
      "5816.0  : 0.8755\n",
      "54001.0  : 0.8592\n",
      "4896.0  : 0.8065\n",
      "81834.0  : 0.7295\n",
      "40815.0  : 0.7042\n",
      "69844.0  : 0.5087\n",
      "88125.0  : 0.4978\n",
      "33004.0  : 0.3742\n",
      "73321.0  : 0.3434\n",
      "293.0  : 0.3303\n",
      "1185.0  : 0.3217\n",
      "1831.0  : 0.292\n",
      "3967.0  : 0.2886\n",
      "3869.0  : 0.2765\n",
      "546.0  : 0.2736\n"
     ]
    }
   ],
   "source": [
    "display_top_movies(movie_title = 8368,\n",
    "                   n_movies = 15,\n",
    "                   similarity_matrix_df = cos_sim_df)"
   ]
  },
  {
   "cell_type": "code",
   "execution_count": 93,
   "metadata": {},
   "outputs": [
    {
     "name": "stdout",
     "output_type": "stream",
     "text": [
      "Selected Movie Id:  8376 \n",
      "--------------------\n",
      "MovieId   Similarity\n",
      "48385.0  : 0.918\n",
      "2378.0  : 0.8333\n",
      "2359.0  : 0.8236\n",
      "3785.0  : 0.7121\n",
      "7451.0  : 0.6921\n",
      "750.0  : 0.6831\n",
      "585.0  : 0.6789\n",
      "65.0  : 0.6657\n",
      "2502.0  : 0.662\n",
      "441.0  : 0.5915\n",
      "2791.0  : 0.5904\n",
      "2109.0  : 0.582\n",
      "1513.0  : 0.5764\n",
      "162.0  : 0.5642\n",
      "562.0  : 0.5637\n"
     ]
    }
   ],
   "source": [
    "display_top_movies(movie_title = 8376,\n",
    "                   n_movies = 15,\n",
    "                   similarity_matrix_df = cos_sim_df)"
   ]
  },
  {
   "cell_type": "code",
   "execution_count": null,
   "metadata": {},
   "outputs": [],
   "source": []
  }
 ],
 "metadata": {
  "kernelspec": {
   "display_name": "Python 3",
   "language": "python",
   "name": "python3"
  },
  "language_info": {
   "codemirror_mode": {
    "name": "ipython",
    "version": 3
   },
   "file_extension": ".py",
   "mimetype": "text/x-python",
   "name": "python",
   "nbconvert_exporter": "python",
   "pygments_lexer": "ipython3",
   "version": "3.7.3"
  }
 },
 "nbformat": 4,
 "nbformat_minor": 4
}
