{
 "cells": [
  {
   "cell_type": "markdown",
   "metadata": {},
   "source": [
    "# Can we identify clusters in our movies"
   ]
  },
  {
   "cell_type": "code",
   "execution_count": 7,
   "metadata": {},
   "outputs": [],
   "source": [
    "# import necessary libraries\n",
    "import pandas as pd\n",
    "import matplotlib.pyplot as plt\n",
    "import numpy as np"
   ]
  },
  {
   "cell_type": "code",
   "execution_count": 8,
   "metadata": {},
   "outputs": [
    {
     "data": {
      "text/plain": [
       "(1343, 1344)"
      ]
     },
     "execution_count": 8,
     "metadata": {},
     "output_type": "execute_result"
    }
   ],
   "source": [
    "df = pd.read_pickle('Pickles/cos_sim_df.pkl')\n",
    "# df = pd.read_pickle('Pickles/pca_100_df.pkl')\n",
    "\n",
    "\n",
    "df.shape\n"
   ]
  },
  {
   "cell_type": "markdown",
   "metadata": {},
   "source": [
    "# Dynamic Hierarchical Clustering\n",
    "- we want our number of clusters to be dynamic\n",
    "- we can do this by setting the distance threshold, such that only the movies above this threshold are valid for the cluster\n",
    "- .1 would result in clusters being formed with >.9 cosine affinity"
   ]
  },
  {
   "cell_type": "code",
   "execution_count": 9,
   "metadata": {},
   "outputs": [
    {
     "data": {
      "text/plain": [
       "0.010096930533117932"
      ]
     },
     "execution_count": 9,
     "metadata": {},
     "output_type": "execute_result"
    }
   ],
   "source": [
    "100/9904"
   ]
  },
  {
   "cell_type": "code",
   "execution_count": 10,
   "metadata": {},
   "outputs": [
    {
     "data": {
      "text/html": [
       "<div>\n",
       "<style scoped>\n",
       "    .dataframe tbody tr th:only-of-type {\n",
       "        vertical-align: middle;\n",
       "    }\n",
       "\n",
       "    .dataframe tbody tr th {\n",
       "        vertical-align: top;\n",
       "    }\n",
       "\n",
       "    .dataframe thead th {\n",
       "        text-align: right;\n",
       "    }\n",
       "</style>\n",
       "<table border=\"1\" class=\"dataframe\">\n",
       "  <thead>\n",
       "    <tr style=\"text-align: right;\">\n",
       "      <th>movieId</th>\n",
       "      <th>1</th>\n",
       "      <th>2</th>\n",
       "      <th>3</th>\n",
       "      <th>5</th>\n",
       "      <th>6</th>\n",
       "      <th>7</th>\n",
       "      <th>10</th>\n",
       "      <th>11</th>\n",
       "      <th>14</th>\n",
       "      <th>16</th>\n",
       "      <th>...</th>\n",
       "      <th>134130</th>\n",
       "      <th>134853</th>\n",
       "      <th>139385</th>\n",
       "      <th>142488</th>\n",
       "      <th>148626</th>\n",
       "      <th>152081</th>\n",
       "      <th>164179</th>\n",
       "      <th>166528</th>\n",
       "      <th>168252</th>\n",
       "      <th>movieId</th>\n",
       "    </tr>\n",
       "  </thead>\n",
       "  <tbody>\n",
       "    <tr>\n",
       "      <th>0</th>\n",
       "      <td>1.00000</td>\n",
       "      <td>-0.04729</td>\n",
       "      <td>-0.007196</td>\n",
       "      <td>-0.020456</td>\n",
       "      <td>0.003208</td>\n",
       "      <td>-0.052876</td>\n",
       "      <td>0.014008</td>\n",
       "      <td>-0.004965</td>\n",
       "      <td>-0.007231</td>\n",
       "      <td>0.164520</td>\n",
       "      <td>...</td>\n",
       "      <td>-0.002414</td>\n",
       "      <td>-0.001942</td>\n",
       "      <td>0.033379</td>\n",
       "      <td>0.075848</td>\n",
       "      <td>-0.004270</td>\n",
       "      <td>-0.037548</td>\n",
       "      <td>0.007200</td>\n",
       "      <td>-0.046395</td>\n",
       "      <td>-0.051469</td>\n",
       "      <td>1</td>\n",
       "    </tr>\n",
       "    <tr>\n",
       "      <th>1</th>\n",
       "      <td>-0.04729</td>\n",
       "      <td>1.00000</td>\n",
       "      <td>-0.101892</td>\n",
       "      <td>-0.006796</td>\n",
       "      <td>0.086783</td>\n",
       "      <td>-0.089670</td>\n",
       "      <td>-0.006500</td>\n",
       "      <td>0.062502</td>\n",
       "      <td>-0.031550</td>\n",
       "      <td>-0.113855</td>\n",
       "      <td>...</td>\n",
       "      <td>-0.010612</td>\n",
       "      <td>0.102774</td>\n",
       "      <td>0.094325</td>\n",
       "      <td>0.062686</td>\n",
       "      <td>0.035455</td>\n",
       "      <td>0.170830</td>\n",
       "      <td>-0.008577</td>\n",
       "      <td>-0.045373</td>\n",
       "      <td>-0.043255</td>\n",
       "      <td>2</td>\n",
       "    </tr>\n",
       "  </tbody>\n",
       "</table>\n",
       "<p>2 rows × 1344 columns</p>\n",
       "</div>"
      ],
      "text/plain": [
       "movieId        1        2         3         5         6         7        10  \\\n",
       "0        1.00000 -0.04729 -0.007196 -0.020456  0.003208 -0.052876  0.014008   \n",
       "1       -0.04729  1.00000 -0.101892 -0.006796  0.086783 -0.089670 -0.006500   \n",
       "\n",
       "movieId        11        14        16  ...    134130    134853    139385  \\\n",
       "0       -0.004965 -0.007231  0.164520  ... -0.002414 -0.001942  0.033379   \n",
       "1        0.062502 -0.031550 -0.113855  ... -0.010612  0.102774  0.094325   \n",
       "\n",
       "movieId    142488    148626    152081    164179    166528    168252  movieId  \n",
       "0        0.075848 -0.004270 -0.037548  0.007200 -0.046395 -0.051469        1  \n",
       "1        0.062686  0.035455  0.170830 -0.008577 -0.045373 -0.043255        2  \n",
       "\n",
       "[2 rows x 1344 columns]"
      ]
     },
     "execution_count": 10,
     "metadata": {},
     "output_type": "execute_result"
    }
   ],
   "source": [
    "df.head(2)"
   ]
  },
  {
   "cell_type": "markdown",
   "metadata": {},
   "source": [
    "# Convert cosine similarity to distanc emetric"
   ]
  },
  {
   "cell_type": "code",
   "execution_count": 11,
   "metadata": {},
   "outputs": [],
   "source": [
    "X = df.drop(columns=['movieId'], axis=1)\n",
    "\n",
    "X = X.subtract(1)\n",
    "\n",
    "X = X.abs()"
   ]
  },
  {
   "cell_type": "code",
   "execution_count": 12,
   "metadata": {},
   "outputs": [
    {
     "data": {
      "text/html": [
       "<div>\n",
       "<style scoped>\n",
       "    .dataframe tbody tr th:only-of-type {\n",
       "        vertical-align: middle;\n",
       "    }\n",
       "\n",
       "    .dataframe tbody tr th {\n",
       "        vertical-align: top;\n",
       "    }\n",
       "\n",
       "    .dataframe thead th {\n",
       "        text-align: right;\n",
       "    }\n",
       "</style>\n",
       "<table border=\"1\" class=\"dataframe\">\n",
       "  <thead>\n",
       "    <tr style=\"text-align: right;\">\n",
       "      <th>movieId</th>\n",
       "      <th>1</th>\n",
       "      <th>2</th>\n",
       "      <th>3</th>\n",
       "      <th>5</th>\n",
       "      <th>6</th>\n",
       "      <th>7</th>\n",
       "      <th>10</th>\n",
       "      <th>11</th>\n",
       "      <th>14</th>\n",
       "      <th>16</th>\n",
       "      <th>...</th>\n",
       "      <th>128360</th>\n",
       "      <th>134130</th>\n",
       "      <th>134853</th>\n",
       "      <th>139385</th>\n",
       "      <th>142488</th>\n",
       "      <th>148626</th>\n",
       "      <th>152081</th>\n",
       "      <th>164179</th>\n",
       "      <th>166528</th>\n",
       "      <th>168252</th>\n",
       "    </tr>\n",
       "  </thead>\n",
       "  <tbody>\n",
       "    <tr>\n",
       "      <th>0</th>\n",
       "      <td>2.220446e-16</td>\n",
       "      <td>1.04729</td>\n",
       "      <td>1.007196</td>\n",
       "      <td>1.020456</td>\n",
       "      <td>0.996792</td>\n",
       "      <td>1.052876</td>\n",
       "      <td>0.985992</td>\n",
       "      <td>1.004965</td>\n",
       "      <td>1.007231</td>\n",
       "      <td>0.835480</td>\n",
       "      <td>...</td>\n",
       "      <td>1.062118</td>\n",
       "      <td>1.002414</td>\n",
       "      <td>1.001942</td>\n",
       "      <td>0.966621</td>\n",
       "      <td>0.924152</td>\n",
       "      <td>1.004270</td>\n",
       "      <td>1.037548</td>\n",
       "      <td>0.992800</td>\n",
       "      <td>1.046395</td>\n",
       "      <td>1.051469</td>\n",
       "    </tr>\n",
       "    <tr>\n",
       "      <th>1</th>\n",
       "      <td>1.047290e+00</td>\n",
       "      <td>0.00000</td>\n",
       "      <td>1.101892</td>\n",
       "      <td>1.006796</td>\n",
       "      <td>0.913217</td>\n",
       "      <td>1.089670</td>\n",
       "      <td>1.006500</td>\n",
       "      <td>0.937498</td>\n",
       "      <td>1.031550</td>\n",
       "      <td>1.113855</td>\n",
       "      <td>...</td>\n",
       "      <td>1.015452</td>\n",
       "      <td>1.010612</td>\n",
       "      <td>0.897226</td>\n",
       "      <td>0.905675</td>\n",
       "      <td>0.937314</td>\n",
       "      <td>0.964545</td>\n",
       "      <td>0.829170</td>\n",
       "      <td>1.008577</td>\n",
       "      <td>1.045373</td>\n",
       "      <td>1.043255</td>\n",
       "    </tr>\n",
       "  </tbody>\n",
       "</table>\n",
       "<p>2 rows × 1343 columns</p>\n",
       "</div>"
      ],
      "text/plain": [
       "movieId        1        2         3         5         6         7       \\\n",
       "0        2.220446e-16  1.04729  1.007196  1.020456  0.996792  1.052876   \n",
       "1        1.047290e+00  0.00000  1.101892  1.006796  0.913217  1.089670   \n",
       "\n",
       "movieId    10        11        14        16      ...    128360    134130  \\\n",
       "0        0.985992  1.004965  1.007231  0.835480  ...  1.062118  1.002414   \n",
       "1        1.006500  0.937498  1.031550  1.113855  ...  1.015452  1.010612   \n",
       "\n",
       "movieId    134853    139385    142488    148626    152081    164179    166528  \\\n",
       "0        1.001942  0.966621  0.924152  1.004270  1.037548  0.992800  1.046395   \n",
       "1        0.897226  0.905675  0.937314  0.964545  0.829170  1.008577  1.045373   \n",
       "\n",
       "movieId    168252  \n",
       "0        1.051469  \n",
       "1        1.043255  \n",
       "\n",
       "[2 rows x 1343 columns]"
      ]
     },
     "execution_count": 12,
     "metadata": {},
     "output_type": "execute_result"
    }
   ],
   "source": [
    "X.head(2)"
   ]
  },
  {
   "cell_type": "code",
   "execution_count": 24,
   "metadata": {},
   "outputs": [
    {
     "name": "stdout",
     "output_type": "stream",
     "text": [
      "Number of clusters: 585\n"
     ]
    }
   ],
   "source": [
    "from sklearn.cluster import AgglomerativeClustering\n",
    "\n",
    "# X = df.drop(columns=['Title'], axis=1)\n",
    "\n",
    "# use distance threshold and n clusters is dynamic\n",
    "clustering = AgglomerativeClustering(n_clusters=None, \n",
    "                                     affinity='precomputed', \n",
    "                                     linkage='complete', \n",
    "                                     compute_full_tree=True,\n",
    "                                     distance_threshold=.5).fit(X)\n",
    "\n",
    "\n",
    "\n",
    "cluster_labels = clustering.labels_.tolist() # store labels as a list\n",
    "cluster_titles = df.movieId.tolist() # store titles as a list\n",
    "\n",
    "# dict with our cluster number as key\n",
    "cluster_dict = {}\n",
    "for i,v in enumerate(cluster_labels):\n",
    "    if v in cluster_dict:\n",
    "        cluster_dict[v].append(cluster_titles[i])\n",
    "    else:\n",
    "        cluster_dict[v] = [cluster_titles[i]]\n",
    "print(\"Number of clusters: {n}\".format(n=len(cluster_dict)))\n",
    "\n",
    "# dict with our movie title as key\n",
    "title_dict = {}\n",
    "for i,v in enumerate(cluster_titles):\n",
    "    title_dict[v] = cluster_labels[i]\n"
   ]
  },
  {
   "cell_type": "markdown",
   "metadata": {},
   "source": [
    "# Cluster Dataframe\n",
    "\n",
    "- we need a dataframe with each cluster as a sample."
   ]
  },
  {
   "cell_type": "code",
   "execution_count": 25,
   "metadata": {},
   "outputs": [
    {
     "data": {
      "text/html": [
       "<div>\n",
       "<style scoped>\n",
       "    .dataframe tbody tr th:only-of-type {\n",
       "        vertical-align: middle;\n",
       "    }\n",
       "\n",
       "    .dataframe tbody tr th {\n",
       "        vertical-align: top;\n",
       "    }\n",
       "\n",
       "    .dataframe thead th {\n",
       "        text-align: right;\n",
       "    }\n",
       "</style>\n",
       "<table border=\"1\" class=\"dataframe\">\n",
       "  <thead>\n",
       "    <tr style=\"text-align: right;\">\n",
       "      <th></th>\n",
       "      <th>cluster</th>\n",
       "      <th>movies</th>\n",
       "      <th>cluster_size</th>\n",
       "    </tr>\n",
       "  </thead>\n",
       "  <tbody>\n",
       "    <tr>\n",
       "      <th>53</th>\n",
       "      <td>96</td>\n",
       "      <td>[168, 1275, 2947, 2948, 2949, 2991, 2993, 3635...</td>\n",
       "      <td>11</td>\n",
       "    </tr>\n",
       "    <tr>\n",
       "      <th>40</th>\n",
       "      <td>154</td>\n",
       "      <td>[110, 1225, 1299, 1416, 1960, 2336, 30749, 314...</td>\n",
       "      <td>11</td>\n",
       "    </tr>\n",
       "    <tr>\n",
       "      <th>57</th>\n",
       "      <td>186</td>\n",
       "      <td>[175, 193, 926, 1103, 1124, 1172, 3083, 3160, ...</td>\n",
       "      <td>11</td>\n",
       "    </tr>\n",
       "    <tr>\n",
       "      <th>72</th>\n",
       "      <td>156</td>\n",
       "      <td>[232, 308, 902, 909, 910, 916, 1235, 2324, 529...</td>\n",
       "      <td>10</td>\n",
       "    </tr>\n",
       "    <tr>\n",
       "      <th>68</th>\n",
       "      <td>41</td>\n",
       "      <td>[215, 222, 265, 306, 4014, 5015, 8533, 8638, 6...</td>\n",
       "      <td>9</td>\n",
       "    </tr>\n",
       "  </tbody>\n",
       "</table>\n",
       "</div>"
      ],
      "text/plain": [
       "    cluster                                             movies  cluster_size\n",
       "53       96  [168, 1275, 2947, 2948, 2949, 2991, 2993, 3635...            11\n",
       "40      154  [110, 1225, 1299, 1416, 1960, 2336, 30749, 314...            11\n",
       "57      186  [175, 193, 926, 1103, 1124, 1172, 3083, 3160, ...            11\n",
       "72      156  [232, 308, 902, 909, 910, 916, 1235, 2324, 529...            10\n",
       "68       41  [215, 222, 265, 306, 4014, 5015, 8533, 8638, 6...             9"
      ]
     },
     "execution_count": 25,
     "metadata": {},
     "output_type": "execute_result"
    }
   ],
   "source": [
    "df_data_list = []\n",
    "for k,v in cluster_dict.items():\n",
    "    df_data_list.append({'cluster': k,\n",
    "                         'movies': v})\n",
    "    \n",
    "cluster_df = pd.DataFrame(df_data_list)\n",
    "\n",
    "cluster_df['cluster_size'] = [len(i) for i in cluster_df.movies]\n",
    "cluster_df = cluster_df.sort_values(by='cluster_size', ascending=False)\n",
    "cluster_df.head()"
   ]
  },
  {
   "cell_type": "code",
   "execution_count": 32,
   "metadata": {},
   "outputs": [
    {
     "data": {
      "text/plain": [
       "(220, 3)"
      ]
     },
     "execution_count": 32,
     "metadata": {},
     "output_type": "execute_result"
    }
   ],
   "source": [
    "cluster_df.loc[cluster_df['cluster_size']==1].shape"
   ]
  },
  {
   "cell_type": "code",
   "execution_count": 28,
   "metadata": {},
   "outputs": [
    {
     "data": {
      "text/plain": [
       "2.2957264957264956"
      ]
     },
     "execution_count": 28,
     "metadata": {},
     "output_type": "execute_result"
    }
   ],
   "source": [
    "cluster_df.cluster_size.mean()"
   ]
  },
  {
   "cell_type": "markdown",
   "metadata": {},
   "source": [
    "# Pickle the cluster dataframe "
   ]
  },
  {
   "cell_type": "code",
   "execution_count": 27,
   "metadata": {},
   "outputs": [],
   "source": [
    "cluster_df.to_pickle('Pickles/clusterPrecomputed_df.pkl')"
   ]
  },
  {
   "cell_type": "code",
   "execution_count": null,
   "metadata": {},
   "outputs": [],
   "source": []
  }
 ],
 "metadata": {
  "kernelspec": {
   "display_name": "Python 3",
   "language": "python",
   "name": "python3"
  },
  "language_info": {
   "codemirror_mode": {
    "name": "ipython",
    "version": 3
   },
   "file_extension": ".py",
   "mimetype": "text/x-python",
   "name": "python",
   "nbconvert_exporter": "python",
   "pygments_lexer": "ipython3",
   "version": "3.7.3"
  }
 },
 "nbformat": 4,
 "nbformat_minor": 4
}
