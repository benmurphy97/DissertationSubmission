{
 "cells": [
  {
   "cell_type": "markdown",
   "metadata": {},
   "source": [
    "# Data exploration and cleaning, creating features as we go"
   ]
  },
  {
   "cell_type": "code",
   "execution_count": 2,
   "metadata": {},
   "outputs": [],
   "source": [
    "# import necessary libraries\n",
    "import pandas as pd\n",
    "import numpy as np\n",
    "import matplotlib.pyplot as plt\n",
    "import re\n",
    "from scipy import stats\n",
    "\n",
    "# mongo\n",
    "from pymongo import MongoClient\n",
    "\n",
    "# nltk for natural language processing\n",
    "import nltk\n",
    "from nltk.tokenize import word_tokenize\n",
    "from nltk.corpus import stopwords\n",
    "from nltk.stem import SnowballStemmer\n",
    "\n",
    "# sklearn \n",
    "# vectorizer\n",
    "from sklearn.feature_extraction.text import TfidfVectorizer\n",
    "from sklearn.preprocessing import MultiLabelBinarizer\n",
    "\n",
    "# similarity metric\n",
    "from sklearn.metrics.pairwise import cosine_similarity\n",
    "\n",
    "from data_visualization import plot_categorical_log"
   ]
  },
  {
   "cell_type": "code",
   "execution_count": 3,
   "metadata": {},
   "outputs": [
    {
     "data": {
      "text/plain": [
       "(1343, 10)"
      ]
     },
     "execution_count": 3,
     "metadata": {},
     "output_type": "execute_result"
    }
   ],
   "source": [
    "client = MongoClient('mongodb://localhost:27017/')\n",
    "db = client.nebflix\n",
    "\n",
    "data = db.movies.find()\n",
    "\n",
    "df =  pd.DataFrame(list(data))\n",
    "df.shape"
   ]
  },
  {
   "cell_type": "code",
   "execution_count": 7,
   "metadata": {
    "jupyter": {
     "source_hidden": true
    }
   },
   "outputs": [
    {
     "data": {
      "text/plain": [
       "(1343, 10)"
      ]
     },
     "execution_count": 7,
     "metadata": {},
     "output_type": "execute_result"
    }
   ],
   "source": [
    "# I acquired this dataset myself from the IMDB website using a selenium webscraper\n",
    "df = pd.read_csv(\"MovieLensFilteredData/ScrapedMoviedData.csv\")\n",
    "\n",
    "# drop the weird column\n",
    "# df = df.drop(columns='Unnamed: 0', axis=1)\n",
    "\n",
    "# df = df.loc[df['Votes'] >= 100000] # keep movies with more than 100000 votes in IMDB, keeps popular movies \n",
    "df.shape"
   ]
  },
  {
   "cell_type": "code",
   "execution_count": 8,
   "metadata": {},
   "outputs": [
    {
     "data": {
      "text/html": [
       "<div>\n",
       "<style scoped>\n",
       "    .dataframe tbody tr th:only-of-type {\n",
       "        vertical-align: middle;\n",
       "    }\n",
       "\n",
       "    .dataframe tbody tr th {\n",
       "        vertical-align: top;\n",
       "    }\n",
       "\n",
       "    .dataframe thead th {\n",
       "        text-align: right;\n",
       "    }\n",
       "</style>\n",
       "<table border=\"1\" class=\"dataframe\">\n",
       "  <thead>\n",
       "    <tr style=\"text-align: right;\">\n",
       "      <th></th>\n",
       "      <th>_id</th>\n",
       "      <th>actors</th>\n",
       "      <th>director</th>\n",
       "      <th>genres</th>\n",
       "      <th>image_link</th>\n",
       "      <th>imdbId</th>\n",
       "      <th>movieId</th>\n",
       "      <th>storyline</th>\n",
       "      <th>title</th>\n",
       "      <th>year</th>\n",
       "    </tr>\n",
       "  </thead>\n",
       "  <tbody>\n",
       "    <tr>\n",
       "      <th>0</th>\n",
       "      <td>5eca5fb277b8f542e37ac59c</td>\n",
       "      <td>['Tom Hanks', 'Tim Allen', 'Don Rickles', 'Jim...</td>\n",
       "      <td>John Lasseter</td>\n",
       "      <td>['Animation', 'Adventure', 'Comedy', '22 March...</td>\n",
       "      <td>https://m.media-amazon.com/images/M/MV5BMDU2ZW...</td>\n",
       "      <td>114709</td>\n",
       "      <td>1</td>\n",
       "      <td>A little boy named Andy loves to be in his...</td>\n",
       "      <td>Toy Story</td>\n",
       "      <td>1995</td>\n",
       "    </tr>\n",
       "  </tbody>\n",
       "</table>\n",
       "</div>"
      ],
      "text/plain": [
       "                        _id  \\\n",
       "0  5eca5fb277b8f542e37ac59c   \n",
       "\n",
       "                                              actors       director  \\\n",
       "0  ['Tom Hanks', 'Tim Allen', 'Don Rickles', 'Jim...  John Lasseter   \n",
       "\n",
       "                                              genres  \\\n",
       "0  ['Animation', 'Adventure', 'Comedy', '22 March...   \n",
       "\n",
       "                                          image_link  imdbId  movieId  \\\n",
       "0  https://m.media-amazon.com/images/M/MV5BMDU2ZW...  114709        1   \n",
       "\n",
       "                                           storyline      title  year  \n",
       "0      A little boy named Andy loves to be in his...  Toy Story  1995  "
      ]
     },
     "execution_count": 8,
     "metadata": {},
     "output_type": "execute_result"
    }
   ],
   "source": [
    "df.head(1)"
   ]
  },
  {
   "cell_type": "markdown",
   "metadata": {},
   "source": [
    "# Check for NA values"
   ]
  },
  {
   "cell_type": "code",
   "execution_count": 4,
   "metadata": {},
   "outputs": [
    {
     "name": "stdout",
     "output_type": "stream",
     "text": [
      "Number of rows with NA: 0\n",
      "Columns with NA: []\n"
     ]
    }
   ],
   "source": [
    "print(\"Number of rows with NA: {n}\".format(n=len(df[df.isna().any(axis=1)])))\n",
    "print(\"Columns with NA: {n}\".format(n=df.columns[df.isna().any()].tolist()))"
   ]
  },
  {
   "cell_type": "markdown",
   "metadata": {},
   "source": [
    "# Genre"
   ]
  },
  {
   "cell_type": "code",
   "execution_count": 5,
   "metadata": {},
   "outputs": [
    {
     "name": "stdout",
     "output_type": "stream",
     "text": [
      "['Animation', 'Adventure', 'Comedy']\n",
      "<class 'list'>\n"
     ]
    }
   ],
   "source": [
    "print(df.genres.iloc[0])\n",
    "print(type(df.genres.iloc[0]))"
   ]
  },
  {
   "cell_type": "markdown",
   "metadata": {},
   "source": [
    "- The genre column looks like a list but it is a string\n",
    "- We want a list so we will have to clean it up\n",
    "- We will create new column, count of genres in each movie\n",
    "- Display the most popular genres"
   ]
  },
  {
   "cell_type": "code",
   "execution_count": 8,
   "metadata": {},
   "outputs": [
    {
     "name": "stdout",
     "output_type": "stream",
     "text": [
      "Number of different genres: 23\n",
      "\n",
      "Top 1 genre: Drama: count: 633\n",
      "Top 2 genre: Comedy: count: 485\n",
      "Top 3 genre: Action: count: 379\n",
      "Top 4 genre: Adventure: count: 370\n",
      "Top 5 genre: Crime: count: 244\n",
      "Top 6 genre: Thriller: count: 210\n",
      "Top 7 genre: Romance: count: 188\n",
      "Top 8 genre: Sci-Fi: count: 180\n",
      "Top 9 genre: Fantasy: count: 140\n",
      "Top 10 genre: Mystery: count: 121\n",
      "Top 11 genre: Family: count: 100\n",
      "Top 12 genre: Animation: count: 91\n",
      "Top 13 genre: Biography: count: 90\n",
      "Top 14 genre: Horror: count: 83\n",
      "Top 15 genre: History: count: 37\n",
      "Top 16 genre: Music: count: 30\n",
      "Top 17 genre: Sport: count: 27\n",
      "Top 18 genre: War: count: 27\n",
      "Top 19 genre: Musical: count: 15\n",
      "Top 20 genre: Western: count: 13\n",
      "Top 21 genre: Film-Noir: count: 8\n",
      "Top 22 genre: Documentary: count: 6\n",
      "Top 23 genre: Short: count: 3\n"
     ]
    },
    {
     "data": {
      "image/png": "[encoded data removed]",
      "text/plain": [
       "<Figure size 432x288 with 1 Axes>"
      ]
     },
     "metadata": {
      "needs_background": "light"
     },
     "output_type": "display_data"
    }
   ],
   "source": [
    "# apply the regex to all rows in our dataset\n",
    "# df['Genres_clean'] = [re.findall(r'[A-Z][A-z- ]+', genre_string) for genre_string in df.Genres] # Use a regex findall to convert our string to a list\n",
    "# df['Number_of_genres'] = df['Genres_clean'].apply(lambda genre_list: len(genre_list)) # Create column with number of genres in each movie\n",
    "\n",
    "# df['clean_genre'] = [re.sub(r\"[\\[\\'\\\" ]+\", '', i) for i in df['genres']]\n",
    "\n",
    "# df['clean_genre'] = [i.split(',')[:-1] for i in df['clean_genre']]\n",
    "\n",
    "# print(\"Example of cleaned genres: {n}\\n\".format(n=df['Genres_clean'].iloc[0]))\n",
    "\n",
    "df['num_genre'] = [len(i) for i in df['genres']]\n",
    "\n",
    "\n",
    "genres_expanded = pd.Series([genre for row in df.genres for genre in row]) # expand our genres column, turning a list of lists into one long pandas series\n",
    "print(\"Number of different genres: {n}\\n\".format(n=len(genres_expanded.unique())))\n",
    "\n",
    "counts_per_genre = genres_expanded.value_counts(sort=True) # get value counts of our expanded genres series\n",
    "\n",
    "# print top 5 genres\n",
    "for i in range(23):\n",
    "    print(\"Top {i} genre: {name}: count: {num}\".format(i=i+1, \n",
    "                                                       name=counts_per_genre.index.tolist()[i], \n",
    "                                                       num=counts_per_genre.tolist()[i]))\n",
    "\n",
    "# call function from data_visualization.py\n",
    "plot_categorical_log(counts_per_genre, \"Genre\")"
   ]
  },
  {
   "cell_type": "code",
   "execution_count": 9,
   "metadata": {},
   "outputs": [
    {
     "data": {
      "text/plain": [
       "2.5912137006701417"
      ]
     },
     "execution_count": 9,
     "metadata": {},
     "output_type": "execute_result"
    }
   ],
   "source": [
    "df['num_genre'].mean()"
   ]
  },
  {
   "cell_type": "code",
   "execution_count": 10,
   "metadata": {},
   "outputs": [
    {
     "data": {
      "text/plain": [
       "23"
      ]
     },
     "execution_count": 10,
     "metadata": {},
     "output_type": "execute_result"
    }
   ],
   "source": [
    "len(counts_per_genre)"
   ]
  },
  {
   "cell_type": "markdown",
   "metadata": {},
   "source": [
    "## The IMDB website describes genres as either subjective or objective. \n",
    "###### https://help.imdb.com/article/contribution/titles/genres/GZDRMS6R742JRGAG?ref_=helpart_nav_31#\n",
    "\n",
    "I will encode the Objective genres with binary values. They include; Animation, Biography, Documentary, Family, Film-Noir, History, Musical, Short, Sport, War, Western. \n",
    "- A movie listed as 'Biography' will receive a value of 1 in the Biography column\n",
    "- A movie listed as 'Biography'and 'War' will receive a value of 1 in the Biography and War columns\n",
    "\n",
    "I will encode the Subjective genres with a weighted value depending on how many subjective genres are listed with the movie. They include; Adventure, Drama, Comedy, Thriller, Action, Romance, Crime, Sci-Fi, Fantasy, Mystery, Horror, Music\n",
    "- A movie listed as only 'Drama' will receive a value of 1.0 in the Drama column.\n",
    "- A movie listed as 'Drama' and 'Romance' will receive a value of 0.5 in the respective column.\n",
    "- A movie listed as 'Biography', 'Drama' and 'Romance' will receive a value of 1 for Biography(Objective) and a value of 0.5 in 'Drama' and 'Romance'"
   ]
  },
  {
   "cell_type": "code",
   "execution_count": 13,
   "metadata": {},
   "outputs": [
    {
     "data": {
      "text/html": [
       "<div>\n",
       "<style scoped>\n",
       "    .dataframe tbody tr th:only-of-type {\n",
       "        vertical-align: middle;\n",
       "    }\n",
       "\n",
       "    .dataframe tbody tr th {\n",
       "        vertical-align: top;\n",
       "    }\n",
       "\n",
       "    .dataframe thead th {\n",
       "        text-align: right;\n",
       "    }\n",
       "</style>\n",
       "<table border=\"1\" class=\"dataframe\">\n",
       "  <thead>\n",
       "    <tr style=\"text-align: right;\">\n",
       "      <th></th>\n",
       "      <th>genres</th>\n",
       "      <th>objective_genres</th>\n",
       "      <th>subjective_genres</th>\n",
       "    </tr>\n",
       "  </thead>\n",
       "  <tbody>\n",
       "    <tr>\n",
       "      <th>0</th>\n",
       "      <td>[Animation, Adventure, Comedy]</td>\n",
       "      <td>[Animation]</td>\n",
       "      <td>[Adventure, Comedy]</td>\n",
       "    </tr>\n",
       "  </tbody>\n",
       "</table>\n",
       "</div>"
      ],
      "text/plain": [
       "                           genres objective_genres    subjective_genres\n",
       "0  [Animation, Adventure, Comedy]      [Animation]  [Adventure, Comedy]"
      ]
     },
     "execution_count": 13,
     "metadata": {},
     "output_type": "execute_result"
    }
   ],
   "source": [
    "# Split the genres column into subjective and objective columns\n",
    "\n",
    "# initialise our objective and subjetive genre lists\n",
    "obj = ['Animation', 'Biography', 'Documentary', 'Family', 'Film-Noir', 'History',\n",
    "       'Musical', 'Short', 'Sport', 'War', 'Western']\n",
    "\n",
    "subj = ['Adventure', 'Drama', 'Comedy', 'Thriller', 'Action', 'Romance', \n",
    "        'Crime', 'Sci-Fi', 'Fantasy', 'Mystery', 'Horror', 'Music']\n",
    "\n",
    "# methods to split the genres column into subjective and objective columns respectively\n",
    "# I had issue with creating two columns in the df with one method so I had to seperate them\n",
    "def split_genres_obj(genres):\n",
    "    obj_g = []\n",
    "    \n",
    "    for g in genres:\n",
    "        if g in obj:\n",
    "            obj_g.append(g)\n",
    "    return obj_g\n",
    "\n",
    "def split_genres_subj(genres):\n",
    "    subj_g = []\n",
    "    \n",
    "    for g in genres:\n",
    "        if g in subj:\n",
    "            subj_g.append(g)\n",
    "    return subj_g\n",
    "\n",
    "\n",
    "df['objective_genres'] = df.genres.apply(lambda genres: split_genres_obj(genres)) # create objective column\n",
    "df['subjective_genres'] = df.genres.apply(lambda genres: split_genres_subj(genres)) # create subjective column\n",
    "\n",
    "df['number_subjective_genres'] = df.subjective_genres.apply(lambda subjg: len(subjg)) # create column with number of subjective genres for later use\n",
    "\n",
    "df[['genres', 'objective_genres', 'subjective_genres']].head(1)"
   ]
  },
  {
   "cell_type": "code",
   "execution_count": null,
   "metadata": {},
   "outputs": [],
   "source": []
  },
  {
   "cell_type": "markdown",
   "metadata": {},
   "source": [
    "## Encode our genres"
   ]
  },
  {
   "cell_type": "code",
   "execution_count": 14,
   "metadata": {},
   "outputs": [
    {
     "data": {
      "text/html": [
       "<div>\n",
       "<style scoped>\n",
       "    .dataframe tbody tr th:only-of-type {\n",
       "        vertical-align: middle;\n",
       "    }\n",
       "\n",
       "    .dataframe tbody tr th {\n",
       "        vertical-align: top;\n",
       "    }\n",
       "\n",
       "    .dataframe thead th {\n",
       "        text-align: right;\n",
       "    }\n",
       "</style>\n",
       "<table border=\"1\" class=\"dataframe\">\n",
       "  <thead>\n",
       "    <tr style=\"text-align: right;\">\n",
       "      <th></th>\n",
       "      <th>Action</th>\n",
       "      <th>Adventure</th>\n",
       "      <th>Comedy</th>\n",
       "      <th>Crime</th>\n",
       "      <th>Drama</th>\n",
       "      <th>Fantasy</th>\n",
       "      <th>Horror</th>\n",
       "      <th>Music</th>\n",
       "      <th>Mystery</th>\n",
       "      <th>Romance</th>\n",
       "      <th>Sci-Fi</th>\n",
       "      <th>Thriller</th>\n",
       "    </tr>\n",
       "  </thead>\n",
       "  <tbody>\n",
       "    <tr>\n",
       "      <th>0</th>\n",
       "      <td>0</td>\n",
       "      <td>1</td>\n",
       "      <td>1</td>\n",
       "      <td>0</td>\n",
       "      <td>0</td>\n",
       "      <td>0</td>\n",
       "      <td>0</td>\n",
       "      <td>0</td>\n",
       "      <td>0</td>\n",
       "      <td>0</td>\n",
       "      <td>0</td>\n",
       "      <td>0</td>\n",
       "    </tr>\n",
       "    <tr>\n",
       "      <th>1</th>\n",
       "      <td>0</td>\n",
       "      <td>1</td>\n",
       "      <td>1</td>\n",
       "      <td>0</td>\n",
       "      <td>0</td>\n",
       "      <td>0</td>\n",
       "      <td>0</td>\n",
       "      <td>0</td>\n",
       "      <td>0</td>\n",
       "      <td>0</td>\n",
       "      <td>0</td>\n",
       "      <td>0</td>\n",
       "    </tr>\n",
       "    <tr>\n",
       "      <th>2</th>\n",
       "      <td>0</td>\n",
       "      <td>0</td>\n",
       "      <td>1</td>\n",
       "      <td>0</td>\n",
       "      <td>0</td>\n",
       "      <td>0</td>\n",
       "      <td>0</td>\n",
       "      <td>0</td>\n",
       "      <td>0</td>\n",
       "      <td>1</td>\n",
       "      <td>0</td>\n",
       "      <td>0</td>\n",
       "    </tr>\n",
       "    <tr>\n",
       "      <th>3</th>\n",
       "      <td>0</td>\n",
       "      <td>0</td>\n",
       "      <td>1</td>\n",
       "      <td>0</td>\n",
       "      <td>0</td>\n",
       "      <td>0</td>\n",
       "      <td>0</td>\n",
       "      <td>0</td>\n",
       "      <td>0</td>\n",
       "      <td>1</td>\n",
       "      <td>0</td>\n",
       "      <td>0</td>\n",
       "    </tr>\n",
       "    <tr>\n",
       "      <th>4</th>\n",
       "      <td>0</td>\n",
       "      <td>0</td>\n",
       "      <td>0</td>\n",
       "      <td>1</td>\n",
       "      <td>1</td>\n",
       "      <td>0</td>\n",
       "      <td>0</td>\n",
       "      <td>0</td>\n",
       "      <td>0</td>\n",
       "      <td>0</td>\n",
       "      <td>0</td>\n",
       "      <td>1</td>\n",
       "    </tr>\n",
       "  </tbody>\n",
       "</table>\n",
       "</div>"
      ],
      "text/plain": [
       "   Action  Adventure  Comedy  Crime  Drama  Fantasy  Horror  Music  Mystery  \\\n",
       "0       0          1       1      0      0        0       0      0        0   \n",
       "1       0          1       1      0      0        0       0      0        0   \n",
       "2       0          0       1      0      0        0       0      0        0   \n",
       "3       0          0       1      0      0        0       0      0        0   \n",
       "4       0          0       0      1      1        0       0      0        0   \n",
       "\n",
       "   Romance  Sci-Fi  Thriller  \n",
       "0        0       0         0  \n",
       "1        0       0         0  \n",
       "2        1       0         0  \n",
       "3        1       0         0  \n",
       "4        0       0         1  "
      ]
     },
     "execution_count": 14,
     "metadata": {},
     "output_type": "execute_result"
    }
   ],
   "source": [
    "mlb = MultiLabelBinarizer()\n",
    "\n",
    "# Enocde the objective genres with values of 1 and 0\n",
    "obj_genre_df = pd.DataFrame(mlb.fit_transform(df.objective_genres),\n",
    "                          columns=mlb.classes_,\n",
    "                          index=df.index)\n",
    "\n",
    "# Enocde the subjective genres with weighted values\n",
    "subj_genre_df = pd.DataFrame(mlb.fit_transform(df.subjective_genres),\n",
    "                          columns=mlb.classes_,\n",
    "                          index=df.index)\n",
    "\n",
    "subj_genre_df.head()"
   ]
  },
  {
   "cell_type": "code",
   "execution_count": 15,
   "metadata": {},
   "outputs": [
    {
     "data": {
      "text/html": [
       "<div>\n",
       "<style scoped>\n",
       "    .dataframe tbody tr th:only-of-type {\n",
       "        vertical-align: middle;\n",
       "    }\n",
       "\n",
       "    .dataframe tbody tr th {\n",
       "        vertical-align: top;\n",
       "    }\n",
       "\n",
       "    .dataframe thead th {\n",
       "        text-align: right;\n",
       "    }\n",
       "</style>\n",
       "<table border=\"1\" class=\"dataframe\">\n",
       "  <thead>\n",
       "    <tr style=\"text-align: right;\">\n",
       "      <th></th>\n",
       "      <th>Animation</th>\n",
       "      <th>Biography</th>\n",
       "      <th>Documentary</th>\n",
       "      <th>Family</th>\n",
       "      <th>Film-Noir</th>\n",
       "      <th>History</th>\n",
       "      <th>Musical</th>\n",
       "      <th>Short</th>\n",
       "      <th>Sport</th>\n",
       "      <th>War</th>\n",
       "      <th>...</th>\n",
       "      <th>Crime</th>\n",
       "      <th>Drama</th>\n",
       "      <th>Fantasy</th>\n",
       "      <th>Horror</th>\n",
       "      <th>Music</th>\n",
       "      <th>Mystery</th>\n",
       "      <th>Romance</th>\n",
       "      <th>Sci-Fi</th>\n",
       "      <th>Thriller</th>\n",
       "      <th>movieId</th>\n",
       "    </tr>\n",
       "  </thead>\n",
       "  <tbody>\n",
       "    <tr>\n",
       "      <th>0</th>\n",
       "      <td>1</td>\n",
       "      <td>0</td>\n",
       "      <td>0</td>\n",
       "      <td>0</td>\n",
       "      <td>0</td>\n",
       "      <td>0</td>\n",
       "      <td>0</td>\n",
       "      <td>0</td>\n",
       "      <td>0</td>\n",
       "      <td>0</td>\n",
       "      <td>...</td>\n",
       "      <td>0.0</td>\n",
       "      <td>0.0</td>\n",
       "      <td>0.0</td>\n",
       "      <td>0.0</td>\n",
       "      <td>0.0</td>\n",
       "      <td>0.0</td>\n",
       "      <td>0.0</td>\n",
       "      <td>0.0</td>\n",
       "      <td>0.0</td>\n",
       "      <td>1</td>\n",
       "    </tr>\n",
       "  </tbody>\n",
       "</table>\n",
       "<p>1 rows × 24 columns</p>\n",
       "</div>"
      ],
      "text/plain": [
       "   Animation  Biography  Documentary  Family  Film-Noir  History  Musical  \\\n",
       "0          1          0            0       0          0        0        0   \n",
       "\n",
       "   Short  Sport  War  ...  Crime  Drama  Fantasy  Horror  Music  Mystery  \\\n",
       "0      0      0    0  ...    0.0    0.0      0.0     0.0    0.0      0.0   \n",
       "\n",
       "   Romance  Sci-Fi  Thriller  movieId  \n",
       "0      0.0     0.0       0.0        1  \n",
       "\n",
       "[1 rows x 24 columns]"
      ]
     },
     "execution_count": 15,
     "metadata": {},
     "output_type": "execute_result"
    }
   ],
   "source": [
    "from sklearn.preprocessing import MultiLabelBinarizer\n",
    "mlb = MultiLabelBinarizer()\n",
    "\n",
    "# Enocde the objective genres with values of 1 and 0\n",
    "obj_genre_df = pd.DataFrame(mlb.fit_transform(df.objective_genres),\n",
    "                          columns=mlb.classes_,\n",
    "                          index=df.index)\n",
    "\n",
    "# Enocde the subjective genres with weighted values\n",
    "subj_genre_df = pd.DataFrame(mlb.fit_transform(df.subjective_genres),\n",
    "                          columns=mlb.classes_,\n",
    "                          index=df.index)\n",
    "\n",
    "subj_genre_df['count'] = df['number_subjective_genres']\n",
    "# divide binary value by count\n",
    "subj_genre_df = subj_genre_df.loc[:,\"Action\":\"Thriller\"].div(subj_genre_df[\"count\"], axis=0)\n",
    "\n",
    "genre_df = pd.concat([obj_genre_df,subj_genre_df], axis=1)\n",
    "\n",
    "# genre_df['title'] = df['title']\n",
    "genre_df['movieId'] = df['movieId']\n",
    "\n",
    "genre_df = genre_df.fillna(0) # some movies get na values when we divided by a count of 0 for subjective genres\n",
    "genre_df.head(1)"
   ]
  },
  {
   "cell_type": "code",
   "execution_count": 17,
   "metadata": {},
   "outputs": [
    {
     "name": "stdout",
     "output_type": "stream",
     "text": [
      "NA values: 0\n"
     ]
    }
   ],
   "source": [
    "print(\"NA values: {n}\".format(n=len(genre_df[genre_df.isnull().any(axis=1)])))"
   ]
  },
  {
   "cell_type": "code",
   "execution_count": 16,
   "metadata": {},
   "outputs": [],
   "source": [
    "# save df for future use\n",
    "genre_df.to_pickle('Pickles/genre_df.pkl')"
   ]
  },
  {
   "cell_type": "markdown",
   "metadata": {},
   "source": [
    "# Actor"
   ]
  },
  {
   "cell_type": "code",
   "execution_count": 20,
   "metadata": {},
   "outputs": [
    {
     "name": "stdout",
     "output_type": "stream",
     "text": [
      "['Tom Hanks', 'Tim Allen', 'Don Rickles', 'Jim Varney', 'Wallace Shawn', 'John Ratzenberger', 'Annie Potts', 'John Morris', 'Erik von Detten', 'Laurie Metcalf', 'R. Lee Ermey', 'Sarah Freeman', 'Penn Jillette', 'Jack Angel', 'Spencer Aste']\n",
      "<class 'list'>\n"
     ]
    }
   ],
   "source": [
    "# what the column currently looks like\n",
    "print(df.actors.iloc[0])\n",
    "print(type(df.actors.iloc[0]))"
   ]
  },
  {
   "cell_type": "code",
   "execution_count": 21,
   "metadata": {},
   "outputs": [
    {
     "data": {
      "text/plain": [
       "count    1343.000000\n",
       "mean       14.711095\n",
       "std         1.342281\n",
       "min         1.000000\n",
       "25%        15.000000\n",
       "50%        15.000000\n",
       "75%        15.000000\n",
       "max        15.000000\n",
       "Name: num_actors, dtype: float64"
      ]
     },
     "execution_count": 21,
     "metadata": {},
     "output_type": "execute_result"
    }
   ],
   "source": [
    "# df['clean_actor'] = [re.sub(r'[\\\"\\[\\]\\']', '', actors_string).split(', ') for actors_string in df.actors]\n",
    "\n",
    "df['num_actors'] = [len(i) for i in df['actors']]\n",
    "\n",
    "\n",
    "df['num_actors'].describe()"
   ]
  },
  {
   "cell_type": "code",
   "execution_count": null,
   "metadata": {},
   "outputs": [],
   "source": []
  },
  {
   "cell_type": "code",
   "execution_count": 22,
   "metadata": {},
   "outputs": [
    {
     "data": {
      "image/png": "[encoded data removed]",
      "text/plain": [
       "<Figure size 432x288 with 1 Axes>"
      ]
     },
     "metadata": {
      "needs_background": "light"
     },
     "output_type": "display_data"
    },
    {
     "name": "stdout",
     "output_type": "stream",
     "text": [
      "Number of actors: 11716\n",
      "\n",
      "Top 1 actor: Robert De Niro: count: 27\n",
      "Top 2 actor: Brad Pitt: count: 26\n",
      "Top 3 actor: Samuel L. Jackson: count: 25\n",
      "Top 4 actor: Morgan Freeman: count: 23\n",
      "Top 5 actor: Bill Murray: count: 23\n"
     ]
    }
   ],
   "source": [
    "actors_expanded = pd.Series([i for row in df.actors for i in row])\n",
    "counts_per_actor = actors_expanded.value_counts(sort=True)\n",
    "\n",
    "# call function from data_visualization.py\n",
    "plot_categorical_log(counts_per_actor, 'Actor')\n",
    "\n",
    "print(\"Number of actors: {num}\\n\".format(num=len(actors_expanded.unique())))\n",
    "\n",
    "for i in range(5):\n",
    "    print(\"Top {i} actor: {name}: count: {num}\".format(i=i+1, \n",
    "                                                       name=counts_per_actor.index.tolist()[i], \n",
    "                                                       num=counts_per_actor.tolist()[i]))"
   ]
  },
  {
   "cell_type": "code",
   "execution_count": 53,
   "metadata": {},
   "outputs": [
    {
     "data": {
      "text/plain": [
       "8616"
      ]
     },
     "execution_count": 53,
     "metadata": {},
     "output_type": "execute_result"
    }
   ],
   "source": [
    "len(counts_per_actor[counts_per_actor == 1])"
   ]
  },
  {
   "cell_type": "code",
   "execution_count": 25,
   "metadata": {},
   "outputs": [
    {
     "name": "stdout",
     "output_type": "stream",
     "text": [
      "Movies with no actor represented: 1.0%\n"
     ]
    },
    {
     "data": {
      "text/plain": [
       "(1343, 3101)"
      ]
     },
     "execution_count": 25,
     "metadata": {},
     "output_type": "execute_result"
    }
   ],
   "source": [
    "mlb = MultiLabelBinarizer()\n",
    "actor_df = pd.DataFrame(mlb.fit_transform(df.actors),\n",
    "                          columns=mlb.classes_,\n",
    "                          index=df.index)\n",
    "\n",
    "# like production companies, we will remove the actors with only 1 movie\n",
    "first_single_count_actor = np.where(counts_per_actor==1)[0].min()\n",
    "\n",
    "actor_to_keep = counts_per_actor[0:first_single_count_actor].index.tolist() # we are keeping the production companies with >1 movie\n",
    "\n",
    "actor_df = actor_df[actor_to_keep] # filter out ones we don't want\n",
    "\n",
    "num_actors = len([i for i in actor_df.sum(axis = 1, skipna = True).tolist() if i==0])\n",
    "print(\"Movies with no actor represented: {p}%\".format(p=100*(round(num_actors/len(actor_df), 2))))\n",
    "\n",
    "# actor_df['title'] = df['title']\n",
    "actor_df['movieId'] = df['movieId']\n",
    "\n",
    "actor_df.shape"
   ]
  },
  {
   "cell_type": "code",
   "execution_count": 26,
   "metadata": {},
   "outputs": [
    {
     "data": {
      "text/plain": [
       "13"
      ]
     },
     "execution_count": 26,
     "metadata": {},
     "output_type": "execute_result"
    }
   ],
   "source": [
    "num_actors"
   ]
  },
  {
   "cell_type": "code",
   "execution_count": 27,
   "metadata": {},
   "outputs": [],
   "source": [
    "actor_df.to_pickle('Pickles/actor_df.pkl')"
   ]
  },
  {
   "cell_type": "markdown",
   "metadata": {},
   "source": [
    "# Director"
   ]
  },
  {
   "cell_type": "code",
   "execution_count": 28,
   "metadata": {},
   "outputs": [
    {
     "name": "stdout",
     "output_type": "stream",
     "text": [
      "Number of movies: 1343\n",
      "Number of director: 589\n",
      "\n",
      "Top 1 actor: Steven Spielberg: count: 20\n",
      "Top 2 actor: Tim Burton: count: 14\n",
      "Top 3 actor: Ron Howard: count: 11\n",
      "Top 4 actor: Ridley Scott: count: 11\n",
      "Top 5 actor: Martin Scorsese: count: 10\n"
     ]
    },
    {
     "data": {
      "image/png": "[encoded data removed]",
      "text/plain": [
       "<Figure size 432x288 with 1 Axes>"
      ]
     },
     "metadata": {
      "needs_background": "light"
     },
     "output_type": "display_data"
    }
   ],
   "source": [
    "print(\"Number of movies: {num}\".format(num=len(df)))\n",
    "print(\"Number of director: {num}\\n\".format(num=len(df.director.unique())))\n",
    "\n",
    "counts_per_director = df.director.value_counts(sort=True)\n",
    "\n",
    "for i in range(5):\n",
    "    print(\"Top {i} actor: {name}: count: {num}\".format(i=i+1, \n",
    "                                                       name=counts_per_director.index.tolist()[i], \n",
    "                                                       num=counts_per_director.tolist()[i]))\n",
    "    \n",
    "# call function from data_visualization.py\n",
    "plt.plot(np.arange(len(counts_per_director)), counts_per_director, 'xk')\n",
    "plt.gca().set_yscale('log')\n",
    "plt.title('Director distribution')\n",
    "plt.ylabel('log Counts per director')\n",
    "plt.grid('on')\n",
    "plt.show()"
   ]
  },
  {
   "cell_type": "code",
   "execution_count": 29,
   "metadata": {},
   "outputs": [
    {
     "name": "stdout",
     "output_type": "stream",
     "text": [
      "Movies with no director represented: 23.0%\n",
      "(1343, 282)\n"
     ]
    }
   ],
   "source": [
    "# plot the percentage of movies covered by top n actors\n",
    "\n",
    "director_df = pd.get_dummies(df.director) # one hot encode the director column\n",
    "\n",
    "# like before, we will remove the directors with only 1 movie\n",
    "first_single_count_director = np.where(counts_per_director==1)[0].min()\n",
    "\n",
    "director_to_keep = counts_per_director[0:first_single_count_director].index.tolist() # we are keeping the directors with >1 movie\n",
    "\n",
    "director_df = director_df[director_to_keep] # filter out ones we don't want\n",
    "\n",
    "# sum over the column axis. \n",
    "num_directors = len([i for i in director_df.sum(axis = 1, skipna = True).tolist() if i==0])\n",
    "# director_df['title'] = df['title']\n",
    "director_df['movieId'] = df['movieId']\n",
    "\n",
    "\n",
    "print(\"Movies with no director represented: {p}%\".format(p=100*(round(num_directors/len(director_df), 2))))\n",
    "print(director_df.shape)"
   ]
  },
  {
   "cell_type": "code",
   "execution_count": 30,
   "metadata": {},
   "outputs": [
    {
     "data": {
      "text/plain": [
       "308"
      ]
     },
     "execution_count": 30,
     "metadata": {},
     "output_type": "execute_result"
    }
   ],
   "source": [
    "num_directors"
   ]
  },
  {
   "cell_type": "markdown",
   "metadata": {},
   "source": [
    "- the high number of samples with no director is likely caused by our filtering out movies with less than 100000 votes on imdb. The movies with less votes are less popular and may have been directed by obscure directors"
   ]
  },
  {
   "cell_type": "code",
   "execution_count": 31,
   "metadata": {},
   "outputs": [],
   "source": [
    "director_df.to_pickle('Pickles/director_df.pkl')"
   ]
  },
  {
   "cell_type": "markdown",
   "metadata": {},
   "source": [
    "# Storyline"
   ]
  },
  {
   "cell_type": "code",
   "execution_count": 32,
   "metadata": {},
   "outputs": [
    {
     "name": "stdout",
     "output_type": "stream",
     "text": [
      "496.2486969471333\n"
     ]
    },
    {
     "data": {
      "image/png": "[encoded data removed]",
      "text/plain": [
       "<Figure size 432x288 with 1 Axes>"
      ]
     },
     "metadata": {
      "needs_background": "light"
     },
     "output_type": "display_data"
    }
   ],
   "source": [
    "chars_per_storyline = np.array([len(i.replace(' ', '')) for i in df.storyline])\n",
    "\n",
    "df['storyline_chars'] = chars_per_storyline\n",
    "\n",
    "# fig, (ax1,ax2) = plt.subplots(1,2, figsize=(14, 4), sharey=False, sharex=False)  # 1 row, 2 columns\n",
    "\n",
    "print(chars_per_storyline.mean())\n",
    "plt.hist(x=chars_per_storyline, bins=100)\n",
    "plt.title('Characters per storyline')\n",
    "plt.ylabel(\"Frequency\")\n",
    "plt.xlabel(\"Number of characters\")\n",
    "plt.axvline(chars_per_storyline.mean(), c='red')\n",
    "# ax1.grid('on')\n",
    "\n",
    "# ax2.hist(x=chars_per_storyline, bins=100, range=(900,1050))\n",
    "# ax2.set_title('Histogram, characters per storyline [cropped range]')\n",
    "\n",
    "plt.show()"
   ]
  },
  {
   "cell_type": "markdown",
   "metadata": {},
   "source": [
    "- The abrupt stop in the counts of characters in the storyline is likely due to max characters for the storyline on IMDB"
   ]
  },
  {
   "cell_type": "code",
   "execution_count": 33,
   "metadata": {},
   "outputs": [
    {
     "data": {
      "image/png": "[encoded data removed]",
      "text/plain": [
       "<Figure size 432x288 with 1 Axes>"
      ]
     },
     "metadata": {
      "needs_background": "light"
     },
     "output_type": "display_data"
    }
   ],
   "source": [
    "words_per_storyline = np.array([len(i.split()) for i in df.storyline])\n",
    "df['storyline_words'] = words_per_storyline\n",
    "\n",
    "plt.hist(x=words_per_storyline, bins=100)\n",
    "plt.title('Words per storyline')\n",
    "plt.xlabel(\"Number of words\")\n",
    "plt.ylabel(\"Frequency\")\n",
    "plt.axvline(words_per_storyline.mean(), c='red')\n",
    "plt.show()"
   ]
  },
  {
   "cell_type": "code",
   "execution_count": 34,
   "metadata": {},
   "outputs": [
    {
     "name": "stdout",
     "output_type": "stream",
     "text": [
      "Mean number of words in Storyline: 103\n",
      "Mean number of chars in Storyline: 496\n"
     ]
    }
   ],
   "source": [
    "mean_words = int(df.storyline_words.mean())\n",
    "print(\"Mean number of words in Storyline: {n}\".format(n=mean_words))\n",
    "mean_chars = int(df.storyline_chars.mean())\n",
    "print(\"Mean number of chars in Storyline: {n}\".format(n=mean_chars))"
   ]
  },
  {
   "cell_type": "markdown",
   "metadata": {},
   "source": [
    "- Nothing unusual in the distribution of the words in Storyline\n",
    "- The difference between the character and word count is interesting. The characters abruptly stop. May be due to there being lots of combinations of varaying length words to reach max characters"
   ]
  },
  {
   "cell_type": "code",
   "execution_count": 35,
   "metadata": {},
   "outputs": [
    {
     "data": {
      "image/png": "[encoded data removed]",
      "text/plain": [
       "<Figure size 576x432 with 1 Axes>"
      ]
     },
     "metadata": {
      "needs_background": "light"
     },
     "output_type": "display_data"
    }
   ],
   "source": [
    "plt.figure(figsize=(8,6))\n",
    "plt.scatter(words_per_storyline, chars_per_storyline)\n",
    "plt.title('Correlation of charactera and words')\n",
    "plt.xlabel(\"Words per storyline\")\n",
    "plt.ylabel(\"Chars per storyline\")\n",
    "plt.show()"
   ]
  },
  {
   "cell_type": "code",
   "execution_count": 36,
   "metadata": {},
   "outputs": [
    {
     "data": {
      "text/plain": [
       "array([146,  44,  99,  95, 129, 134,  95, 124, 150, 120, 122, 127,  46,\n",
       "        47, 147,  84,  77,  42,  65, 175])"
      ]
     },
     "execution_count": 36,
     "metadata": {},
     "output_type": "execute_result"
    }
   ],
   "source": [
    "words_per_storyline[:20]"
   ]
  },
  {
   "cell_type": "code",
   "execution_count": 37,
   "metadata": {},
   "outputs": [
    {
     "data": {
      "text/plain": [
       "(0.9844561783538487, 0.0)"
      ]
     },
     "execution_count": 37,
     "metadata": {},
     "output_type": "execute_result"
    }
   ],
   "source": [
    "stats.pearsonr(chars_per_storyline, words_per_storyline)"
   ]
  },
  {
   "cell_type": "markdown",
   "metadata": {},
   "source": [
    "## We will use the Storyline to engineer text features"
   ]
  },
  {
   "cell_type": "code",
   "execution_count": 38,
   "metadata": {},
   "outputs": [
    {
     "data": {
      "text/html": [
       "<div>\n",
       "<style scoped>\n",
       "    .dataframe tbody tr th:only-of-type {\n",
       "        vertical-align: middle;\n",
       "    }\n",
       "\n",
       "    .dataframe tbody tr th {\n",
       "        vertical-align: top;\n",
       "    }\n",
       "\n",
       "    .dataframe thead th {\n",
       "        text-align: right;\n",
       "    }\n",
       "</style>\n",
       "<table border=\"1\" class=\"dataframe\">\n",
       "  <thead>\n",
       "    <tr style=\"text-align: right;\">\n",
       "      <th></th>\n",
       "      <th>storyline</th>\n",
       "      <th>storyline_tokens</th>\n",
       "    </tr>\n",
       "  </thead>\n",
       "  <tbody>\n",
       "    <tr>\n",
       "      <th>0</th>\n",
       "      <td>A little boy named Andy loves to be in his...</td>\n",
       "      <td>[little, boy, named, andy, loves, room, playin...</td>\n",
       "    </tr>\n",
       "  </tbody>\n",
       "</table>\n",
       "</div>"
      ],
      "text/plain": [
       "                                           storyline  \\\n",
       "0      A little boy named Andy loves to be in his...   \n",
       "\n",
       "                                    storyline_tokens  \n",
       "0  [little, boy, named, andy, loves, room, playin...  "
      ]
     },
     "execution_count": 38,
     "metadata": {},
     "output_type": "execute_result"
    }
   ],
   "source": [
    "# nltk.download('punkt')\n",
    "# nltk.download('stopwords')\n",
    "\n",
    "# Remove punctuation\n",
    "df['storyline_no_punct'] = df['storyline'].apply(lambda row: re.sub(r'[\\',.\\\"\\(\\)\\\\]', '', row))\n",
    "\n",
    "# tokenize\n",
    "df['storyline_tokens'] = df['storyline_no_punct'].apply(lambda row: word_tokenize(row))\n",
    "\n",
    "# lower all the tokens\n",
    "df['storyline_tokens'] = df['storyline_tokens'].apply(lambda row: [i.lower() for i in row])\n",
    "\n",
    "# view results\n",
    "df[['storyline', 'storyline_tokens']].iloc[0]\n",
    "\n",
    "# remove stopwords\n",
    "stop_words = stopwords.words(\"english\")\n",
    "def remove_stopwords(tokens):\n",
    "    return [word for word in tokens if word not in stop_words]\n",
    "\n",
    "df['storyline_tokens'] = df['storyline_tokens'].apply(lambda row: remove_stopwords(row))\n",
    "\n",
    "df[['storyline', 'storyline_tokens']].head(1)"
   ]
  },
  {
   "cell_type": "markdown",
   "metadata": {},
   "source": [
    "## Stemming"
   ]
  },
  {
   "cell_type": "code",
   "execution_count": 39,
   "metadata": {},
   "outputs": [
    {
     "data": {
      "text/html": [
       "<div>\n",
       "<style scoped>\n",
       "    .dataframe tbody tr th:only-of-type {\n",
       "        vertical-align: middle;\n",
       "    }\n",
       "\n",
       "    .dataframe tbody tr th {\n",
       "        vertical-align: top;\n",
       "    }\n",
       "\n",
       "    .dataframe thead th {\n",
       "        text-align: right;\n",
       "    }\n",
       "</style>\n",
       "<table border=\"1\" class=\"dataframe\">\n",
       "  <thead>\n",
       "    <tr style=\"text-align: right;\">\n",
       "      <th></th>\n",
       "      <th>storyline</th>\n",
       "      <th>storyline_tokens_stem</th>\n",
       "    </tr>\n",
       "  </thead>\n",
       "  <tbody>\n",
       "    <tr>\n",
       "      <th>0</th>\n",
       "      <td>A little boy named Andy loves to be in his...</td>\n",
       "      <td>[littl, boy, name, andi, love, room, play, toy...</td>\n",
       "    </tr>\n",
       "  </tbody>\n",
       "</table>\n",
       "</div>"
      ],
      "text/plain": [
       "                                           storyline  \\\n",
       "0      A little boy named Andy loves to be in his...   \n",
       "\n",
       "                               storyline_tokens_stem  \n",
       "0  [littl, boy, name, andi, love, room, play, toy...  "
      ]
     },
     "execution_count": 39,
     "metadata": {},
     "output_type": "execute_result"
    }
   ],
   "source": [
    "ss_en = SnowballStemmer('english')\n",
    "\n",
    "def stem_words(tokens):\n",
    "    return [ss_en.stem(i) for i in tokens]\n",
    "\n",
    "df['storyline_tokens_stem'] = df['storyline_tokens'].apply(\n",
    "                                        lambda row: stem_words(row))\n",
    "    \n",
    "df[['storyline', 'storyline_tokens_stem']].head(1)"
   ]
  },
  {
   "cell_type": "code",
   "execution_count": 40,
   "metadata": {},
   "outputs": [],
   "source": [
    "def token_to_sentence(tokens):\n",
    "    return ' '.join(word for word in tokens)\n",
    "\n",
    "df['storyline_stem'] = df['storyline_tokens_stem'].apply(lambda row: token_to_sentence(row))"
   ]
  },
  {
   "cell_type": "code",
   "execution_count": 41,
   "metadata": {},
   "outputs": [
    {
     "name": "stdout",
     "output_type": "stream",
     "text": [
      "Rows with NA: 0:\n"
     ]
    }
   ],
   "source": [
    "print(\"Rows with NA: {n}:\".format(n=len(df[df.isnull().any(axis=1)])))"
   ]
  },
  {
   "cell_type": "code",
   "execution_count": 42,
   "metadata": {},
   "outputs": [
    {
     "data": {
      "text/html": [
       "<div>\n",
       "<style scoped>\n",
       "    .dataframe tbody tr th:only-of-type {\n",
       "        vertical-align: middle;\n",
       "    }\n",
       "\n",
       "    .dataframe tbody tr th {\n",
       "        vertical-align: top;\n",
       "    }\n",
       "\n",
       "    .dataframe thead th {\n",
       "        text-align: right;\n",
       "    }\n",
       "</style>\n",
       "<table border=\"1\" class=\"dataframe\">\n",
       "  <thead>\n",
       "    <tr style=\"text-align: right;\">\n",
       "      <th></th>\n",
       "      <th>_id</th>\n",
       "      <th>actors</th>\n",
       "      <th>director</th>\n",
       "      <th>genres</th>\n",
       "      <th>image_link</th>\n",
       "      <th>imdbId</th>\n",
       "      <th>movieId</th>\n",
       "      <th>storyline</th>\n",
       "      <th>title</th>\n",
       "      <th>year</th>\n",
       "      <th>...</th>\n",
       "      <th>objective_genres</th>\n",
       "      <th>subjective_genres</th>\n",
       "      <th>number_subjective_genres</th>\n",
       "      <th>num_actors</th>\n",
       "      <th>storyline_chars</th>\n",
       "      <th>storyline_words</th>\n",
       "      <th>storyline_no_punct</th>\n",
       "      <th>storyline_tokens</th>\n",
       "      <th>storyline_tokens_stem</th>\n",
       "      <th>storyline_stem</th>\n",
       "    </tr>\n",
       "  </thead>\n",
       "  <tbody>\n",
       "    <tr>\n",
       "      <th>0</th>\n",
       "      <td>5ed66dfb872e7d29663e0867</td>\n",
       "      <td>[Tom Hanks, Tim Allen, Don Rickles, Jim Varney...</td>\n",
       "      <td>John Lasseter</td>\n",
       "      <td>[Animation, Adventure, Comedy]</td>\n",
       "      <td>https://m.media-amazon.com/images/M/MV5BMDU2ZW...</td>\n",
       "      <td>0114709</td>\n",
       "      <td>1</td>\n",
       "      <td>A little boy named Andy loves to be in his...</td>\n",
       "      <td>Toy Story</td>\n",
       "      <td>1995</td>\n",
       "      <td>...</td>\n",
       "      <td>[Animation]</td>\n",
       "      <td>[Adventure, Comedy]</td>\n",
       "      <td>2</td>\n",
       "      <td>15</td>\n",
       "      <td>622</td>\n",
       "      <td>146</td>\n",
       "      <td>A little boy named Andy loves to be in his...</td>\n",
       "      <td>[little, boy, named, andy, loves, room, playin...</td>\n",
       "      <td>[littl, boy, name, andi, love, room, play, toy...</td>\n",
       "      <td>littl boy name andi love room play toy especi ...</td>\n",
       "    </tr>\n",
       "  </tbody>\n",
       "</table>\n",
       "<p>1 rows × 21 columns</p>\n",
       "</div>"
      ],
      "text/plain": [
       "                        _id  \\\n",
       "0  5ed66dfb872e7d29663e0867   \n",
       "\n",
       "                                              actors       director  \\\n",
       "0  [Tom Hanks, Tim Allen, Don Rickles, Jim Varney...  John Lasseter   \n",
       "\n",
       "                           genres  \\\n",
       "0  [Animation, Adventure, Comedy]   \n",
       "\n",
       "                                          image_link   imdbId  movieId  \\\n",
       "0  https://m.media-amazon.com/images/M/MV5BMDU2ZW...  0114709        1   \n",
       "\n",
       "                                           storyline      title  year  ...  \\\n",
       "0      A little boy named Andy loves to be in his...  Toy Story  1995  ...   \n",
       "\n",
       "   objective_genres    subjective_genres number_subjective_genres  num_actors  \\\n",
       "0       [Animation]  [Adventure, Comedy]                        2          15   \n",
       "\n",
       "   storyline_chars  storyline_words  \\\n",
       "0              622              146   \n",
       "\n",
       "                                  storyline_no_punct  \\\n",
       "0      A little boy named Andy loves to be in his...   \n",
       "\n",
       "                                    storyline_tokens  \\\n",
       "0  [little, boy, named, andy, loves, room, playin...   \n",
       "\n",
       "                               storyline_tokens_stem  \\\n",
       "0  [littl, boy, name, andi, love, room, play, toy...   \n",
       "\n",
       "                                      storyline_stem  \n",
       "0  littl boy name andi love room play toy especi ...  \n",
       "\n",
       "[1 rows x 21 columns]"
      ]
     },
     "execution_count": 42,
     "metadata": {},
     "output_type": "execute_result"
    }
   ],
   "source": [
    "df.head(1)"
   ]
  },
  {
   "cell_type": "code",
   "execution_count": 43,
   "metadata": {},
   "outputs": [
    {
     "data": {
      "text/plain": [
       "100"
      ]
     },
     "execution_count": 43,
     "metadata": {},
     "output_type": "execute_result"
    }
   ],
   "source": [
    "original = df.iloc[0]['storyline']\n",
    "len(set(original.split(' ')))"
   ]
  },
  {
   "cell_type": "code",
   "execution_count": 44,
   "metadata": {},
   "outputs": [
    {
     "data": {
      "text/plain": [
       "50"
      ]
     },
     "execution_count": 44,
     "metadata": {},
     "output_type": "execute_result"
    }
   ],
   "source": [
    "updated = df.iloc[0]['storyline_stem']\n",
    "len(set(updated.split(' ')))"
   ]
  },
  {
   "cell_type": "code",
   "execution_count": 45,
   "metadata": {},
   "outputs": [
    {
     "data": {
      "text/plain": [
       "'littl boy name andi love room play toy especi doll name woodi toy andi come life woodi believ life toy good howev must worri andi famili move woodi know andi birthday parti woodi realiz andi mother gave action figur known buzz lightyear believ toy quick becom andi new favorit toy woodi consum jealousi tri get rid buzz woodi buzz lost must find way get back andi move without pass ruthless toy killer sid phillip'"
      ]
     },
     "execution_count": 45,
     "metadata": {},
     "output_type": "execute_result"
    }
   ],
   "source": [
    "updated"
   ]
  },
  {
   "cell_type": "markdown",
   "metadata": {},
   "source": [
    "## Vectorization"
   ]
  },
  {
   "cell_type": "code",
   "execution_count": 46,
   "metadata": {},
   "outputs": [],
   "source": [
    "text_data = df['storyline_stem']\n",
    "text_data_array = np.array(text_data)\n",
    "\n",
    "# And now testing TFIDF vectorizer:\n",
    "tfidf_vectorizer = TfidfVectorizer(ngram_range=(1,1), min_df=2)\n",
    "tfidf_matrix = tfidf_vectorizer.fit_transform(text_data_array)"
   ]
  },
  {
   "cell_type": "code",
   "execution_count": 47,
   "metadata": {},
   "outputs": [
    {
     "name": "stdout",
     "output_type": "stream",
     "text": [
      "Number of features 5800\n"
     ]
    }
   ],
   "source": [
    "# Get feature names\n",
    "feature_names = tfidf_vectorizer.get_feature_names()\n",
    "print(\"Number of features %s\" % len(feature_names))"
   ]
  },
  {
   "cell_type": "code",
   "execution_count": 48,
   "metadata": {},
   "outputs": [],
   "source": [
    "# create df from our tfidf matrix\n",
    "tfidf_df = pd.DataFrame(tfidf_matrix.todense(), columns = feature_names)\n",
    "# tfidf_df['title'] = df['title']\n",
    "tfidf_df['movieId'] = df['movieId']\n",
    "\n"
   ]
  },
  {
   "cell_type": "code",
   "execution_count": 49,
   "metadata": {},
   "outputs": [
    {
     "data": {
      "text/html": [
       "<div>\n",
       "<style scoped>\n",
       "    .dataframe tbody tr th:only-of-type {\n",
       "        vertical-align: middle;\n",
       "    }\n",
       "\n",
       "    .dataframe tbody tr th {\n",
       "        vertical-align: top;\n",
       "    }\n",
       "\n",
       "    .dataframe thead th {\n",
       "        text-align: right;\n",
       "    }\n",
       "</style>\n",
       "<table border=\"1\" class=\"dataframe\">\n",
       "  <thead>\n",
       "    <tr style=\"text-align: right;\">\n",
       "      <th></th>\n",
       "      <th>00</th>\n",
       "      <th>007</th>\n",
       "      <th>10</th>\n",
       "      <th>100</th>\n",
       "      <th>1000</th>\n",
       "      <th>100000</th>\n",
       "      <th>10th</th>\n",
       "      <th>11</th>\n",
       "      <th>12</th>\n",
       "      <th>13</th>\n",
       "      <th>...</th>\n",
       "      <th>zebra</th>\n",
       "      <th>zeke</th>\n",
       "      <th>zellweg</th>\n",
       "      <th>zero</th>\n",
       "      <th>zeta</th>\n",
       "      <th>zion</th>\n",
       "      <th>zombi</th>\n",
       "      <th>zone</th>\n",
       "      <th>zoo</th>\n",
       "      <th>movieId</th>\n",
       "    </tr>\n",
       "  </thead>\n",
       "  <tbody>\n",
       "    <tr>\n",
       "      <th>0</th>\n",
       "      <td>0.0</td>\n",
       "      <td>0.0</td>\n",
       "      <td>0.0</td>\n",
       "      <td>0.0</td>\n",
       "      <td>0.0</td>\n",
       "      <td>0.0</td>\n",
       "      <td>0.0</td>\n",
       "      <td>0.0</td>\n",
       "      <td>0.0</td>\n",
       "      <td>0.0</td>\n",
       "      <td>...</td>\n",
       "      <td>0.0</td>\n",
       "      <td>0.0</td>\n",
       "      <td>0.0</td>\n",
       "      <td>0.0</td>\n",
       "      <td>0.0</td>\n",
       "      <td>0.0</td>\n",
       "      <td>0.0</td>\n",
       "      <td>0.0</td>\n",
       "      <td>0.0</td>\n",
       "      <td>1</td>\n",
       "    </tr>\n",
       "    <tr>\n",
       "      <th>1</th>\n",
       "      <td>0.0</td>\n",
       "      <td>0.0</td>\n",
       "      <td>0.0</td>\n",
       "      <td>0.0</td>\n",
       "      <td>0.0</td>\n",
       "      <td>0.0</td>\n",
       "      <td>0.0</td>\n",
       "      <td>0.0</td>\n",
       "      <td>0.0</td>\n",
       "      <td>0.0</td>\n",
       "      <td>...</td>\n",
       "      <td>0.0</td>\n",
       "      <td>0.0</td>\n",
       "      <td>0.0</td>\n",
       "      <td>0.0</td>\n",
       "      <td>0.0</td>\n",
       "      <td>0.0</td>\n",
       "      <td>0.0</td>\n",
       "      <td>0.0</td>\n",
       "      <td>0.0</td>\n",
       "      <td>2</td>\n",
       "    </tr>\n",
       "    <tr>\n",
       "      <th>2</th>\n",
       "      <td>0.0</td>\n",
       "      <td>0.0</td>\n",
       "      <td>0.0</td>\n",
       "      <td>0.0</td>\n",
       "      <td>0.0</td>\n",
       "      <td>0.0</td>\n",
       "      <td>0.0</td>\n",
       "      <td>0.0</td>\n",
       "      <td>0.0</td>\n",
       "      <td>0.0</td>\n",
       "      <td>...</td>\n",
       "      <td>0.0</td>\n",
       "      <td>0.0</td>\n",
       "      <td>0.0</td>\n",
       "      <td>0.0</td>\n",
       "      <td>0.0</td>\n",
       "      <td>0.0</td>\n",
       "      <td>0.0</td>\n",
       "      <td>0.0</td>\n",
       "      <td>0.0</td>\n",
       "      <td>3</td>\n",
       "    </tr>\n",
       "    <tr>\n",
       "      <th>3</th>\n",
       "      <td>0.0</td>\n",
       "      <td>0.0</td>\n",
       "      <td>0.0</td>\n",
       "      <td>0.0</td>\n",
       "      <td>0.0</td>\n",
       "      <td>0.0</td>\n",
       "      <td>0.0</td>\n",
       "      <td>0.0</td>\n",
       "      <td>0.0</td>\n",
       "      <td>0.0</td>\n",
       "      <td>...</td>\n",
       "      <td>0.0</td>\n",
       "      <td>0.0</td>\n",
       "      <td>0.0</td>\n",
       "      <td>0.0</td>\n",
       "      <td>0.0</td>\n",
       "      <td>0.0</td>\n",
       "      <td>0.0</td>\n",
       "      <td>0.0</td>\n",
       "      <td>0.0</td>\n",
       "      <td>5</td>\n",
       "    </tr>\n",
       "    <tr>\n",
       "      <th>4</th>\n",
       "      <td>0.0</td>\n",
       "      <td>0.0</td>\n",
       "      <td>0.0</td>\n",
       "      <td>0.0</td>\n",
       "      <td>0.0</td>\n",
       "      <td>0.0</td>\n",
       "      <td>0.0</td>\n",
       "      <td>0.0</td>\n",
       "      <td>0.0</td>\n",
       "      <td>0.0</td>\n",
       "      <td>...</td>\n",
       "      <td>0.0</td>\n",
       "      <td>0.0</td>\n",
       "      <td>0.0</td>\n",
       "      <td>0.0</td>\n",
       "      <td>0.0</td>\n",
       "      <td>0.0</td>\n",
       "      <td>0.0</td>\n",
       "      <td>0.0</td>\n",
       "      <td>0.0</td>\n",
       "      <td>6</td>\n",
       "    </tr>\n",
       "  </tbody>\n",
       "</table>\n",
       "<p>5 rows × 5801 columns</p>\n",
       "</div>"
      ],
      "text/plain": [
       "    00  007   10  100  1000  100000  10th   11   12   13  ...  zebra  zeke  \\\n",
       "0  0.0  0.0  0.0  0.0   0.0     0.0   0.0  0.0  0.0  0.0  ...    0.0   0.0   \n",
       "1  0.0  0.0  0.0  0.0   0.0     0.0   0.0  0.0  0.0  0.0  ...    0.0   0.0   \n",
       "2  0.0  0.0  0.0  0.0   0.0     0.0   0.0  0.0  0.0  0.0  ...    0.0   0.0   \n",
       "3  0.0  0.0  0.0  0.0   0.0     0.0   0.0  0.0  0.0  0.0  ...    0.0   0.0   \n",
       "4  0.0  0.0  0.0  0.0   0.0     0.0   0.0  0.0  0.0  0.0  ...    0.0   0.0   \n",
       "\n",
       "   zellweg  zero  zeta  zion  zombi  zone  zoo  movieId  \n",
       "0      0.0   0.0   0.0   0.0    0.0   0.0  0.0        1  \n",
       "1      0.0   0.0   0.0   0.0    0.0   0.0  0.0        2  \n",
       "2      0.0   0.0   0.0   0.0    0.0   0.0  0.0        3  \n",
       "3      0.0   0.0   0.0   0.0    0.0   0.0  0.0        5  \n",
       "4      0.0   0.0   0.0   0.0    0.0   0.0  0.0        6  \n",
       "\n",
       "[5 rows x 5801 columns]"
      ]
     },
     "execution_count": 49,
     "metadata": {},
     "output_type": "execute_result"
    }
   ],
   "source": [
    "tfidf_df.head(5)"
   ]
  },
  {
   "cell_type": "code",
   "execution_count": 50,
   "metadata": {},
   "outputs": [
    {
     "data": {
      "text/html": [
       "<div>\n",
       "<style scoped>\n",
       "    .dataframe tbody tr th:only-of-type {\n",
       "        vertical-align: middle;\n",
       "    }\n",
       "\n",
       "    .dataframe tbody tr th {\n",
       "        vertical-align: top;\n",
       "    }\n",
       "\n",
       "    .dataframe thead th {\n",
       "        text-align: right;\n",
       "    }\n",
       "</style>\n",
       "<table border=\"1\" class=\"dataframe\">\n",
       "  <thead>\n",
       "    <tr style=\"text-align: right;\">\n",
       "      <th></th>\n",
       "      <th>woodi</th>\n",
       "      <th>woolli</th>\n",
       "      <th>word</th>\n",
       "      <th>work</th>\n",
       "      <th>worker</th>\n",
       "      <th>working</th>\n",
       "      <th>workplac</th>\n",
       "      <th>world</th>\n",
       "      <th>worldwid</th>\n",
       "      <th>worm</th>\n",
       "      <th>wormhol</th>\n",
       "      <th>worri</th>\n",
       "      <th>wors</th>\n",
       "    </tr>\n",
       "  </thead>\n",
       "  <tbody>\n",
       "    <tr>\n",
       "      <th>0</th>\n",
       "      <td>0.52017</td>\n",
       "      <td>0.0</td>\n",
       "      <td>0.0</td>\n",
       "      <td>0.0</td>\n",
       "      <td>0.0</td>\n",
       "      <td>0.0</td>\n",
       "      <td>0.0</td>\n",
       "      <td>0.0</td>\n",
       "      <td>0.0</td>\n",
       "      <td>0.0</td>\n",
       "      <td>0.0</td>\n",
       "      <td>0.071706</td>\n",
       "      <td>0.0</td>\n",
       "    </tr>\n",
       "  </tbody>\n",
       "</table>\n",
       "</div>"
      ],
      "text/plain": [
       "     woodi  woolli  word  work  worker  working  workplac  world  worldwid  \\\n",
       "0  0.52017     0.0   0.0   0.0     0.0      0.0       0.0    0.0       0.0   \n",
       "\n",
       "   worm  wormhol     worri  wors  \n",
       "0   0.0      0.0  0.071706   0.0  "
      ]
     },
     "execution_count": 50,
     "metadata": {},
     "output_type": "execute_result"
    }
   ],
   "source": [
    "tfidf_df[[\"woodi\"  ,\"woolli\"  , \n",
    "\"word\"     ,  \n",
    "\"work\"      ,\n",
    "\"worker\"    ,\n",
    "\"working\"    ,\n",
    "\"workplac\"  ,\n",
    "\"world\"      , \n",
    "\"worldwid\"  ,\n",
    "\"worm\"      ,\n",
    "\"wormhol\"   ,\n",
    "\"worri\"   ,\n",
    "\"wors\"     ]].head(1)"
   ]
  },
  {
   "cell_type": "code",
   "execution_count": 51,
   "metadata": {},
   "outputs": [
    {
     "data": {
      "text/plain": [
       "wizardri    0.000000\n",
       "wolf        0.000000\n",
       "wolv        0.000000\n",
       "wolverin    0.000000\n",
       "woman       0.000000\n",
       "women       0.000000\n",
       "wonder      0.000000\n",
       "wonka       0.000000\n",
       "wont        0.000000\n",
       "woo         0.000000\n",
       "wood        0.000000\n",
       "wooden      0.000000\n",
       "woodhous    0.000000\n",
       "woodi       0.520170\n",
       "woolli      0.000000\n",
       "word        0.000000\n",
       "work        0.000000\n",
       "worker      0.000000\n",
       "working     0.000000\n",
       "workplac    0.000000\n",
       "world       0.000000\n",
       "worldwid    0.000000\n",
       "worm        0.000000\n",
       "wormhol     0.000000\n",
       "worri       0.071706\n",
       "wors        0.000000\n",
       "worsen      0.000000\n",
       "worship     0.000000\n",
       "worst       0.000000\n",
       "Name: 0, dtype: float64"
      ]
     },
     "execution_count": 51,
     "metadata": {},
     "output_type": "execute_result"
    }
   ],
   "source": [
    "tfidf_df.iloc[0][5721:5750]"
   ]
  },
  {
   "cell_type": "code",
   "execution_count": 52,
   "metadata": {},
   "outputs": [],
   "source": [
    "tfidf_df.to_pickle('Pickles/tfidf_df.pkl')"
   ]
  },
  {
   "cell_type": "code",
   "execution_count": null,
   "metadata": {},
   "outputs": [],
   "source": []
  },
  {
   "cell_type": "code",
   "execution_count": null,
   "metadata": {},
   "outputs": [],
   "source": []
  },
  {
   "cell_type": "markdown",
   "metadata": {},
   "source": [
    "# Remove the irregular movieId"
   ]
  },
  {
   "cell_type": "code",
   "execution_count": 3,
   "metadata": {},
   "outputs": [
    {
     "data": {
      "text/html": [
       "<div>\n",
       "<style scoped>\n",
       "    .dataframe tbody tr th:only-of-type {\n",
       "        vertical-align: middle;\n",
       "    }\n",
       "\n",
       "    .dataframe tbody tr th {\n",
       "        vertical-align: top;\n",
       "    }\n",
       "\n",
       "    .dataframe thead th {\n",
       "        text-align: right;\n",
       "    }\n",
       "</style>\n",
       "<table border=\"1\" class=\"dataframe\">\n",
       "  <thead>\n",
       "    <tr style=\"text-align: right;\">\n",
       "      <th></th>\n",
       "      <th>movieId</th>\n",
       "      <th>title</th>\n",
       "      <th>genres</th>\n",
       "      <th>imdbId</th>\n",
       "    </tr>\n",
       "  </thead>\n",
       "  <tbody>\n",
       "    <tr>\n",
       "      <th>0</th>\n",
       "      <td>1</td>\n",
       "      <td>Toy Story (1995)</td>\n",
       "      <td>Adventure|Animation|Children|Comedy|Fantasy</td>\n",
       "      <td>114709</td>\n",
       "    </tr>\n",
       "  </tbody>\n",
       "</table>\n",
       "</div>"
      ],
      "text/plain": [
       "   movieId             title                                       genres  \\\n",
       "0        1  Toy Story (1995)  Adventure|Animation|Children|Comedy|Fantasy   \n",
       "\n",
       "   imdbId  \n",
       "0  114709  "
      ]
     },
     "execution_count": 3,
     "metadata": {},
     "output_type": "execute_result"
    }
   ],
   "source": [
    "movies = pd.read_csv('MovieLensFilteredData/moviesFiltered.csv')\n",
    "movies.head(1)"
   ]
  },
  {
   "cell_type": "code",
   "execution_count": 4,
   "metadata": {},
   "outputs": [],
   "source": [
    "\n",
    "movies = movies.loc[movies['imdbId']!=118114]\n",
    "movies.to_csv('MovieLensFilteredData/moviesFiltered.csv', index=False)\n"
   ]
  },
  {
   "cell_type": "code",
   "execution_count": null,
   "metadata": {},
   "outputs": [],
   "source": []
  }
 ],
 "metadata": {
  "kernelspec": {
   "display_name": "Python 3",
   "language": "python",
   "name": "python3"
  },
  "language_info": {
   "codemirror_mode": {
    "name": "ipython",
    "version": 3
   },
   "file_extension": ".py",
   "mimetype": "text/x-python",
   "name": "python",
   "nbconvert_exporter": "python",
   "pygments_lexer": "ipython3",
   "version": "3.7.3"
  }
 },
 "nbformat": 4,
 "nbformat_minor": 4
}
