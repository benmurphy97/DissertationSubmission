{
 "cells": [
  {
   "cell_type": "code",
   "execution_count": 1,
   "metadata": {},
   "outputs": [],
   "source": [
    "import pandas as pd\n",
    "import numpy as np\n",
    "\n",
    "import matplotlib.pyplot as plt"
   ]
  },
  {
   "cell_type": "code",
   "execution_count": 2,
   "metadata": {},
   "outputs": [
    {
     "data": {
      "text/plain": [
       "(27753444, 4)"
      ]
     },
     "execution_count": 2,
     "metadata": {},
     "output_type": "execute_result"
    }
   ],
   "source": [
    "ratings = pd.read_csv('MovieLensRawData/ratings.csv')\n",
    "ratings.shape"
   ]
  },
  {
   "cell_type": "code",
   "execution_count": 3,
   "metadata": {},
   "outputs": [
    {
     "data": {
      "text/html": [
       "<div>\n",
       "<style scoped>\n",
       "    .dataframe tbody tr th:only-of-type {\n",
       "        vertical-align: middle;\n",
       "    }\n",
       "\n",
       "    .dataframe tbody tr th {\n",
       "        vertical-align: top;\n",
       "    }\n",
       "\n",
       "    .dataframe thead th {\n",
       "        text-align: right;\n",
       "    }\n",
       "</style>\n",
       "<table border=\"1\" class=\"dataframe\">\n",
       "  <thead>\n",
       "    <tr style=\"text-align: right;\">\n",
       "      <th></th>\n",
       "      <th>userId</th>\n",
       "      <th>movieId</th>\n",
       "      <th>rating</th>\n",
       "      <th>timestamp</th>\n",
       "    </tr>\n",
       "  </thead>\n",
       "  <tbody>\n",
       "    <tr>\n",
       "      <th>0</th>\n",
       "      <td>1</td>\n",
       "      <td>307</td>\n",
       "      <td>3.5</td>\n",
       "      <td>1256677221</td>\n",
       "    </tr>\n",
       "    <tr>\n",
       "      <th>1</th>\n",
       "      <td>1</td>\n",
       "      <td>481</td>\n",
       "      <td>3.5</td>\n",
       "      <td>1256677456</td>\n",
       "    </tr>\n",
       "    <tr>\n",
       "      <th>2</th>\n",
       "      <td>1</td>\n",
       "      <td>1091</td>\n",
       "      <td>1.5</td>\n",
       "      <td>1256677471</td>\n",
       "    </tr>\n",
       "    <tr>\n",
       "      <th>3</th>\n",
       "      <td>1</td>\n",
       "      <td>1257</td>\n",
       "      <td>4.5</td>\n",
       "      <td>1256677460</td>\n",
       "    </tr>\n",
       "    <tr>\n",
       "      <th>4</th>\n",
       "      <td>1</td>\n",
       "      <td>1449</td>\n",
       "      <td>4.5</td>\n",
       "      <td>1256677264</td>\n",
       "    </tr>\n",
       "  </tbody>\n",
       "</table>\n",
       "</div>"
      ],
      "text/plain": [
       "   userId  movieId  rating   timestamp\n",
       "0       1      307     3.5  1256677221\n",
       "1       1      481     3.5  1256677456\n",
       "2       1     1091     1.5  1256677471\n",
       "3       1     1257     4.5  1256677460\n",
       "4       1     1449     4.5  1256677264"
      ]
     },
     "execution_count": 3,
     "metadata": {},
     "output_type": "execute_result"
    }
   ],
   "source": [
    "ratings.head(5)"
   ]
  },
  {
   "cell_type": "code",
   "execution_count": 4,
   "metadata": {},
   "outputs": [
    {
     "data": {
      "text/plain": [
       "0"
      ]
     },
     "execution_count": 4,
     "metadata": {},
     "output_type": "execute_result"
    }
   ],
   "source": [
    "len(ratings[['userId', 'movieId']])-len(ratings[['userId', 'movieId']].drop_duplicates())"
   ]
  },
  {
   "cell_type": "code",
   "execution_count": 5,
   "metadata": {},
   "outputs": [
    {
     "data": {
      "text/plain": [
       "15262873692"
      ]
     },
     "execution_count": 5,
     "metadata": {},
     "output_type": "execute_result"
    }
   ],
   "source": [
    "len(ratings.userId.unique())*len(ratings.movieId.unique())\n",
    "15262873692"
   ]
  },
  {
   "cell_type": "code",
   "execution_count": 6,
   "metadata": {},
   "outputs": [
    {
     "name": "stdout",
     "output_type": "stream",
     "text": [
      "Users: 283228\n",
      "Movies: 53889\n"
     ]
    }
   ],
   "source": [
    "print(f\"Users: {len(ratings.userId.unique())}\")\n",
    "print(f\"Movies: {len(ratings.movieId.unique())}\")\n",
    "\n"
   ]
  },
  {
   "cell_type": "markdown",
   "metadata": {},
   "source": [
    "# Look at number of ratings a movie has"
   ]
  },
  {
   "cell_type": "code",
   "execution_count": 7,
   "metadata": {},
   "outputs": [
    {
     "name": "stdout",
     "output_type": "stream",
     "text": [
      "Total number of movies: 53889\n"
     ]
    },
    {
     "data": {
      "image/png": "[encoded data removed]",
      "text/plain": [
       "<Figure size 864x432 with 1 Axes>"
      ]
     },
     "metadata": {
      "needs_background": "light"
     },
     "output_type": "display_data"
    },
    {
     "name": "stdout",
     "output_type": "stream",
     "text": [
      "MovieId - 318 \n",
      "Ratings received:  97999 \n",
      "\n",
      "MovieId - 356 \n",
      "Ratings received:  97040 \n",
      "\n",
      "MovieId - 296 \n",
      "Ratings received:  92406 \n",
      "\n",
      "MovieId - 593 \n",
      "Ratings received:  87899 \n",
      "\n",
      "MovieId - 2571 \n",
      "Ratings received:  84545 \n",
      "\n"
     ]
    }
   ],
   "source": [
    "movie_value_counts = ratings.movieId.value_counts(sort=True)\n",
    "\n",
    "print(f\"Total number of movies: {len(movie_value_counts)}\")\n",
    "\n",
    "plt.figure(figsize=(12,6))\n",
    "plt.plot(np.arange(len(movie_value_counts)), movie_value_counts, 'xk')\n",
    "# plt.yscale('log')\n",
    "plt.title('Number of ratings for each movie')\n",
    "plt.xlabel('Movie')\n",
    "plt.ylabel('log(Number of ratings)')\n",
    "plt.axhline(5000, c='red')\n",
    "\n",
    "plt.grid('on')\n",
    "plt.show()\n",
    "\n",
    "for i in range(5):\n",
    "    print(\"MovieId -\", movie_value_counts.index[i], \"\\nRatings received: \", movie_value_counts.values[i],\"\\n\")\n",
    "\n",
    "# del(movie_value_counts)"
   ]
  },
  {
   "cell_type": "code",
   "execution_count": 8,
   "metadata": {},
   "outputs": [
    {
     "name": "stdout",
     "output_type": "stream",
     "text": [
      "Number of movies with more than 5000 ratings received: 1344\n"
     ]
    }
   ],
   "source": [
    "m_threshold = 5000\n",
    "\n",
    "n_movies = len(movie_value_counts[movie_value_counts>=m_threshold])\n",
    "\n",
    "print(\"Number of movies with more than {n} ratings received: {m}\".format(n=m_threshold, m=n_movies))"
   ]
  },
  {
   "cell_type": "markdown",
   "metadata": {},
   "source": [
    "- # We will remove movies with less than a certain number of ratings"
   ]
  },
  {
   "cell_type": "code",
   "execution_count": 9,
   "metadata": {},
   "outputs": [
    {
     "data": {
      "text/plain": [
       "(19077544, 4)"
      ]
     },
     "execution_count": 9,
     "metadata": {},
     "output_type": "execute_result"
    }
   ],
   "source": [
    "# list of movie with more ratings received than threshold\n",
    "eligibleMovies = movie_value_counts[movie_value_counts>=m_threshold].index.tolist()\n",
    "\n",
    "ratings = ratings.loc[ratings['movieId'].isin(eligibleMovies)]\n",
    "\n",
    "ratings.shape"
   ]
  },
  {
   "cell_type": "code",
   "execution_count": 10,
   "metadata": {},
   "outputs": [
    {
     "name": "stdout",
     "output_type": "stream",
     "text": [
      "Users: 281662\n",
      "Movies: 1344\n"
     ]
    }
   ],
   "source": [
    "print(f\"Users: {len(ratings.userId.unique())}\")\n",
    "print(f\"Movies: {len(ratings.movieId.unique())}\")"
   ]
  },
  {
   "cell_type": "code",
   "execution_count": 11,
   "metadata": {},
   "outputs": [
    {
     "data": {
      "text/plain": [
       "2.49401547625675"
      ]
     },
     "execution_count": 11,
     "metadata": {},
     "output_type": "execute_result"
    }
   ],
   "source": [
    "1344/53889*100"
   ]
  },
  {
   "cell_type": "code",
   "execution_count": 12,
   "metadata": {},
   "outputs": [
    {
     "name": "stdout",
     "output_type": "stream",
     "text": [
      "Rows kept: 68.73937519249863%\n"
     ]
    }
   ],
   "source": [
    "print(f\"Rows kept: {19077544/27753444*100}%\")"
   ]
  },
  {
   "cell_type": "markdown",
   "metadata": {},
   "source": [
    "# Users"
   ]
  },
  {
   "cell_type": "code",
   "execution_count": 13,
   "metadata": {},
   "outputs": [
    {
     "name": "stdout",
     "output_type": "stream",
     "text": [
      "Total number of users: 281662\n"
     ]
    },
    {
     "data": {
      "image/png": "[encoded data removed]",
      "text/plain": [
       "<Figure size 864x432 with 1 Axes>"
      ]
     },
     "metadata": {
      "needs_background": "light"
     },
     "output_type": "display_data"
    },
    {
     "name": "stdout",
     "output_type": "stream",
     "text": [
      "UserID - 191063 \n",
      "Movies rated:  1343 \n",
      "\n",
      "UserID - 94843 \n",
      "Movies rated:  1338 \n",
      "\n",
      "UserID - 242683 \n",
      "Movies rated:  1273 \n",
      "\n",
      "UserID - 60950 \n",
      "Movies rated:  1273 \n",
      "\n",
      "UserID - 109040 \n",
      "Movies rated:  1261 \n",
      "\n"
     ]
    }
   ],
   "source": [
    "user_value_counts = ratings.userId.value_counts(sort=True)\n",
    "\n",
    "\n",
    "print(f\"Total number of users: {len(user_value_counts)}\")\n",
    "\n",
    "plt.figure(figsize=(12,6))\n",
    "plt.plot(np.arange(len(user_value_counts)), user_value_counts, 'xk')\n",
    "# plt.yscale('log')\n",
    "plt.title('Number of ratings by each user')\n",
    "plt.xlabel('User')\n",
    "plt.ylabel('Number of ratings')\n",
    "plt.axhline(200, c='red')\n",
    "plt.grid('on')\n",
    "plt.show()\n",
    "\n",
    "for i in range(5):\n",
    "    print(\"UserID -\", user_value_counts.index[i], \"\\nMovies rated: \", user_value_counts.values[i],\"\\n\")\n",
    "\n",
    "del(user_value_counts)"
   ]
  },
  {
   "cell_type": "code",
   "execution_count": 14,
   "metadata": {},
   "outputs": [
    {
     "data": {
      "text/plain": [
       "(281662,)"
      ]
     },
     "execution_count": 14,
     "metadata": {},
     "output_type": "execute_result"
    }
   ],
   "source": [
    "ratings.userId.unique().shape"
   ]
  },
  {
   "cell_type": "markdown",
   "metadata": {},
   "source": [
    "## We will reduce the number of users to those who have rated more than a threshold of movies"
   ]
  },
  {
   "cell_type": "code",
   "execution_count": 15,
   "metadata": {},
   "outputs": [
    {
     "name": "stdout",
     "output_type": "stream",
     "text": [
      "Number of users with more than 200 ratings submitted: 24158\n",
      "\n",
      "Rows potentially removed 10501316\n",
      "\n",
      "Length after removing 8576228\n"
     ]
    }
   ],
   "source": [
    "user_value_counts = ratings.userId.value_counts(sort=True)\n",
    "\n",
    "u_threshold = 200\n",
    "\n",
    "n_users = len(user_value_counts[user_value_counts >= u_threshold])\n",
    "\n",
    "print(\"Number of users with more than {n} ratings submitted: {u}\".format(n=u_threshold, u=n_users))\n",
    "\n",
    "\n",
    "# list of user ids with more ratings given than threshold\n",
    "eligibleUsers = user_value_counts[user_value_counts >= u_threshold].index.tolist()\n",
    "length_after = len(ratings.loc[ratings['userId'].isin(eligibleUsers)])\n",
    "\n",
    "print(f\"\\nRows potentially removed {len(ratings)-length_after}\")\n",
    "\n",
    "print(f\"\\nLength after removing {length_after}\")"
   ]
  },
  {
   "cell_type": "code",
   "execution_count": 16,
   "metadata": {},
   "outputs": [
    {
     "data": {
      "text/plain": [
       "(19077544, 4)"
      ]
     },
     "execution_count": 16,
     "metadata": {},
     "output_type": "execute_result"
    }
   ],
   "source": [
    "ratings.shape"
   ]
  },
  {
   "cell_type": "code",
   "execution_count": 17,
   "metadata": {},
   "outputs": [
    {
     "name": "stdout",
     "output_type": "stream",
     "text": [
      "Rows kept: 30.901491000540332%\n"
     ]
    }
   ],
   "source": [
    "print(f\"Rows kept: {8576228/27753444*100}%\")\n"
   ]
  },
  {
   "cell_type": "code",
   "execution_count": 18,
   "metadata": {},
   "outputs": [
    {
     "data": {
      "text/plain": [
       "(8576228, 4)"
      ]
     },
     "execution_count": 18,
     "metadata": {},
     "output_type": "execute_result"
    }
   ],
   "source": [
    "# list of user ids with more ratings given than threshold\n",
    "eligibleUsers = user_value_counts[user_value_counts >= u_threshold].index.tolist()\n",
    "\n",
    "ratings = ratings.loc[ratings['userId'].isin(eligibleUsers)]\n",
    "ratings.shape\n",
    "\n",
    "# ratingsFilteredMoviesDF.loc[ratingsFilteredMoviesDF['userId'].isin(eligibleUsers)].shape"
   ]
  },
  {
   "cell_type": "code",
   "execution_count": 24,
   "metadata": {},
   "outputs": [
    {
     "data": {
      "text/html": [
       "<div>\n",
       "<style scoped>\n",
       "    .dataframe tbody tr th:only-of-type {\n",
       "        vertical-align: middle;\n",
       "    }\n",
       "\n",
       "    .dataframe tbody tr th {\n",
       "        vertical-align: top;\n",
       "    }\n",
       "\n",
       "    .dataframe thead th {\n",
       "        text-align: right;\n",
       "    }\n",
       "</style>\n",
       "<table border=\"1\" class=\"dataframe\">\n",
       "  <thead>\n",
       "    <tr style=\"text-align: right;\">\n",
       "      <th></th>\n",
       "      <th>userId</th>\n",
       "      <th>movieId</th>\n",
       "      <th>rating</th>\n",
       "    </tr>\n",
       "  </thead>\n",
       "  <tbody>\n",
       "    <tr>\n",
       "      <th>42</th>\n",
       "      <td>4</td>\n",
       "      <td>1</td>\n",
       "      <td>4.0</td>\n",
       "    </tr>\n",
       "    <tr>\n",
       "      <th>43</th>\n",
       "      <td>4</td>\n",
       "      <td>2</td>\n",
       "      <td>4.0</td>\n",
       "    </tr>\n",
       "    <tr>\n",
       "      <th>44</th>\n",
       "      <td>4</td>\n",
       "      <td>5</td>\n",
       "      <td>2.0</td>\n",
       "    </tr>\n",
       "    <tr>\n",
       "      <th>45</th>\n",
       "      <td>4</td>\n",
       "      <td>6</td>\n",
       "      <td>4.5</td>\n",
       "    </tr>\n",
       "    <tr>\n",
       "      <th>46</th>\n",
       "      <td>4</td>\n",
       "      <td>10</td>\n",
       "      <td>4.0</td>\n",
       "    </tr>\n",
       "  </tbody>\n",
       "</table>\n",
       "</div>"
      ],
      "text/plain": [
       "    userId  movieId  rating\n",
       "42       4        1     4.0\n",
       "43       4        2     4.0\n",
       "44       4        5     2.0\n",
       "45       4        6     4.5\n",
       "46       4       10     4.0"
      ]
     },
     "execution_count": 24,
     "metadata": {},
     "output_type": "execute_result"
    }
   ],
   "source": [
    "ratings = ratings.drop(columns=['timestamp'], axis=1)\n",
    "ratings.head()"
   ]
  },
  {
   "cell_type": "markdown",
   "metadata": {},
   "source": [
    "## Overall stats"
   ]
  },
  {
   "cell_type": "code",
   "execution_count": 25,
   "metadata": {},
   "outputs": [
    {
     "name": "stdout",
     "output_type": "stream",
     "text": [
      "Number of Users: 24158\n",
      "Number of movies: 1344\n"
     ]
    }
   ],
   "source": [
    "print(f\"Number of Users: {len(ratings.userId.unique())}\")\n",
    "      \n",
    "print(f\"Number of movies: {len(ratings.movieId.unique())}\")"
   ]
  },
  {
   "cell_type": "code",
   "execution_count": 26,
   "metadata": {},
   "outputs": [
    {
     "data": {
      "text/plain": [
       "8.576946836989014"
      ]
     },
     "execution_count": 26,
     "metadata": {},
     "output_type": "execute_result"
    }
   ],
   "source": [
    "24158/281662*100"
   ]
  },
  {
   "cell_type": "code",
   "execution_count": 27,
   "metadata": {},
   "outputs": [
    {
     "data": {
      "text/plain": [
       "(8576228, 3)"
      ]
     },
     "execution_count": 27,
     "metadata": {},
     "output_type": "execute_result"
    }
   ],
   "source": [
    "ratings.shape"
   ]
  },
  {
   "cell_type": "code",
   "execution_count": 28,
   "metadata": {},
   "outputs": [
    {
     "data": {
      "text/plain": [
       "32468352"
      ]
     },
     "execution_count": 28,
     "metadata": {},
     "output_type": "execute_result"
    }
   ],
   "source": [
    "24158*1344"
   ]
  },
  {
   "cell_type": "markdown",
   "metadata": {},
   "source": [
    "# Write new data to csv"
   ]
  },
  {
   "cell_type": "code",
   "execution_count": 29,
   "metadata": {},
   "outputs": [],
   "source": [
    "ratings.to_csv('MovieLensFilteredData/ratingsFiltered.csv', index=False)"
   ]
  },
  {
   "cell_type": "code",
   "execution_count": null,
   "metadata": {},
   "outputs": [],
   "source": []
  }
 ],
 "metadata": {
  "kernelspec": {
   "display_name": "Python 3",
   "language": "python",
   "name": "python3"
  },
  "language_info": {
   "codemirror_mode": {
    "name": "ipython",
    "version": 3
   },
   "file_extension": ".py",
   "mimetype": "text/x-python",
   "name": "python",
   "nbconvert_exporter": "python",
   "pygments_lexer": "ipython3",
   "version": "3.7.3"
  }
 },
 "nbformat": 4,
 "nbformat_minor": 4
}
