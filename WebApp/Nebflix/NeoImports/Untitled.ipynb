{
 "cells": [
  {
   "cell_type": "code",
   "execution_count": 1,
   "metadata": {},
   "outputs": [],
   "source": [
    "import pandas as pd\n",
    "import numpy as np"
   ]
  },
  {
   "cell_type": "code",
   "execution_count": 5,
   "metadata": {},
   "outputs": [
    {
     "data": {
      "text/plain": [
       "(8576228, 3)"
      ]
     },
     "execution_count": 5,
     "metadata": {},
     "output_type": "execute_result"
    }
   ],
   "source": [
    "df.shape"
   ]
  },
  {
   "cell_type": "raw",
   "metadata": {},
   "source": [
    "1    initialise the clustered_item dict with the one movie from each cluster\n",
    "2\n",
    "3    for each user\n",
    "4        initlize PID as an empty potential_item dict\n",
    "5        initialize CID as a copy of the clustered_item dict\n",
    "6\n",
    "7        get the rating vector for the user\n",
    "8\n",
    "9        for each iteration\n",
    "10            calculate the number of potential and clustered items to display at the iteration\n",
    "11\n",
    "12            retrieve the top specified items from CID and PID for the window\n",
    "13\n",
    "14            for each movie in the window of the iteration\n",
    "15                get the user's rating for these movies from the user rating vector\n",
    "16\n",
    "17                if the user's rating is above the rating threshold\n",
    "18\n",
    "19                    if the item came from CID\n",
    "20\n",
    "21                        create the weights for the items in the cluster and add them PID\n",
    "22\n",
    "23                    if the item came from PID\n",
    "24\n",
    "25                        update the weights for the items in the cluster in PID\n",
    "26        \n",
    "27    return the mean number of items found across all users for the given parameters"
   ]
  },
  {
   "cell_type": "code",
   "execution_count": 5,
   "metadata": {},
   "outputs": [
    {
     "data": {
      "text/plain": [
       "array([2, 6, 9, 3, 0, 7, 5, 0, 3, 0])"
      ]
     },
     "execution_count": 5,
     "metadata": {},
     "output_type": "execute_result"
    }
   ],
   "source": [
    "np.random.randint(0, 10, size=10)"
   ]
  },
  {
   "cell_type": "code",
   "execution_count": 9,
   "metadata": {},
   "outputs": [
    {
     "data": {
      "text/plain": [
       "array([9, 8, 0, 3, 4])"
      ]
     },
     "execution_count": 9,
     "metadata": {},
     "output_type": "execute_result"
    }
   ],
   "source": [
    "np.random.choice(10, 5, replace=False)"
   ]
  },
  {
   "cell_type": "code",
   "execution_count": null,
   "metadata": {},
   "outputs": [],
   "source": []
  }
 ],
 "metadata": {
  "kernelspec": {
   "display_name": "Python 3",
   "language": "python",
   "name": "python3"
  },
  "language_info": {
   "codemirror_mode": {
    "name": "ipython",
    "version": 3
   },
   "file_extension": ".py",
   "mimetype": "text/x-python",
   "name": "python",
   "nbconvert_exporter": "python",
   "pygments_lexer": "ipython3",
   "version": "3.7.3"
  }
 },
 "nbformat": 4,
 "nbformat_minor": 4
}
